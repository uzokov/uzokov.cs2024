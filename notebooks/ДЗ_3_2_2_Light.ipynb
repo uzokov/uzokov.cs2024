{
  "cells": [
    {
      "cell_type": "markdown",
      "metadata": {
        "id": "MH-3kVwvJYeP"
      },
      "source": [
        "\n",
        "# 3.2.2 Индексирование и вырезание"
      ]
    },
    {
      "cell_type": "markdown",
      "metadata": {
        "id": "gMwyKhlQJ1mf"
      },
      "source": [
        "## Задание 1"
      ]
    },
    {
      "cell_type": "markdown",
      "metadata": {
        "id": "GU4-oH6b-Sak"
      },
      "source": [
        "Конечно, давайте создадим аналогичную задачу без использования изображения.\n",
        "\n",
        "**Условие:**\n",
        "Создайте целочисленный массив `ndarray` размера `(3,3)`. Представьте, что каждый элемент этого массива находится на черной позиции, как показано на следующей схеме:\n",
        "\n",
        "```\n",
        "B  W  B\n",
        "W  B  W\n",
        "B  W  B\n",
        "```\n",
        "\n",
        "Теперь, используя индексы элементов на черных позициях (B), выполните 4 выборки элементов согласно следующим выражениям:\n",
        "\n",
        "1. Выборка элементов с индексами `(0, 0)`, `(1, 1)`, `(2, 2)`.\n",
        "2. Выборка элементов с индексами `(0, 2)`, `(1, 1)`, `(2, 0)`.\n",
        "3. Выборка элементов с индексами `(0, 1)`, `(1, 1)`, `(2, 1)`.\n",
        "4. Выборка элементов с индексами `(1, 0)`, `(1, 1)`, `(1, 2)`.\n",
        "\n",
        "Найдите максимальное значение в каждой из полученных выборок.\n",
        "\n",
        "**Формат ответа:**\n",
        "Кортеж чисел (например, `(3, 5, 2, 6)`)."
      ]
    },
    {
      "cell_type": "markdown",
      "metadata": {
        "id": "OCTvo3fHLaaJ"
      },
      "source": [
        "**Решение:**"
      ]
    },
    {
      "cell_type": "code",
      "execution_count": null,
      "metadata": {
        "colab": {
          "base_uri": "https://localhost:8080/"
        },
        "id": "f9_8IGndLeRO",
        "outputId": "40cbc338-6fbc-4735-9e92-910ef4647089"
      },
      "outputs": [
        {
          "output_type": "stream",
          "name": "stdout",
          "text": [
            "Максимальные значения в выборках: [1, 1, 1, 1]\n"
          ]
        }
      ],
      "source": [
        "import numpy as np\n",
        "\n",
        "# Создание массива ndarray размера (3,3)\n",
        "array = np.array([[1, 0, 1],\n",
        "                  [0, 1, 0],\n",
        "                  [1, 0, 1]])\n",
        "\n",
        "# Индексы элементов на черных позициях\n",
        "black_indices = np.argwhere(array == 1)\n",
        "\n",
        "# Выборки элементов по указанным индексам\n",
        "samples_indices = [\n",
        "    [(0, 0), (1, 1), (2, 2)],\n",
        "    [(0, 2), (1, 1), (2, 0)],\n",
        "    [(0, 1), (1, 1), (2, 1)],\n",
        "    [(1, 0), (1, 1), (1, 2)]\n",
        "]\n",
        "\n",
        "# Нахождение максимального значения в каждой выборке\n",
        "max_values = []\n",
        "for indices in samples_indices:\n",
        "    sample_values = [array[index] for index in indices]\n",
        "    max_values.append(max(sample_values))\n",
        "\n",
        "print(\"Максимальные значения в выборках:\", max_values)"
      ]
    },
    {
      "cell_type": "markdown",
      "metadata": {
        "id": "g5S0h2-wKfGE"
      },
      "source": [
        "## Задание 2"
      ]
    },
    {
      "cell_type": "markdown",
      "metadata": {
        "id": "orX7BUzcPKKf"
      },
      "source": [
        "**Условие:**\n",
        "Создайте случайный целочисленный массив ```ndarray``` из ```100``` элементов, принадлежащих отрезку ```[0,10]```. С помощью булевой индексации найдите все четные элементы в массиве. Найдите сумму полученных элементов. Используйте ```np.random.seed(1000)``` перед генерацией массива для воспроизводимости результатов.\n",
        "\n",
        "**Формат ответа:**\n",
        "Число (например, ```56```)\n",
        "\n",
        "**Оценка в баллах:** 3 балла"
      ]
    },
    {
      "cell_type": "markdown",
      "metadata": {
        "id": "ESSLfwqEPKKn"
      },
      "source": [
        "**Решение:**"
      ]
    },
    {
      "cell_type": "code",
      "execution_count": null,
      "metadata": {
        "colab": {
          "base_uri": "https://localhost:8080/"
        },
        "id": "y8HOlaNLPKKq",
        "outputId": "f9481c41-7988-45dd-845b-983ae086eb70"
      },
      "outputs": [
        {
          "output_type": "stream",
          "name": "stdout",
          "text": [
            "Сумма четных элементов: 266\n"
          ]
        }
      ],
      "source": [
        "import numpy as np\n",
        "\n",
        "# Задаем seed для воспроизводимости результатов\n",
        "np.random.seed(1000)\n",
        "\n",
        "# Генерируем случайный массив ndarray из 100 элементов на отрезке [0, 10]\n",
        "array = np.random.randint(0, 11, size=100)\n",
        "\n",
        "# Используем булеву индексацию для нахождения всех четных элементов в массиве\n",
        "even_elements = array[array % 2 == 0]\n",
        "\n",
        "# Находим сумму четных элементов\n",
        "sum_even_elements = np.sum(even_elements)\n",
        "\n",
        "print(\"Сумма четных элементов:\", sum_even_elements)"
      ]
    },
    {
      "cell_type": "markdown",
      "metadata": {
        "id": "tq0Fcrg1KfXQ"
      },
      "source": [
        "## Задание 3"
      ]
    },
    {
      "cell_type": "markdown",
      "metadata": {
        "id": "3xp-jyyHPMIb"
      },
      "source": [
        "**Условие:**\n",
        "Создайте случайный целочисленный массив ndarray размера ```(10,10)``` элементов, принадлежащих отрезку ```[0,10]```. Сделайте подвыборку по всем строкам с нечетным индексом. Найдите сумму всех элементов в полученной матрице. Используйте ```np.random.seed(1000)``` перед генерацией массива для воспроизводимости результатов.\n",
        "\n",
        "**Формат ответа:**\n",
        "Число (например, ```150```)\n",
        "\n",
        "**Оценка в баллах:** 4 балла\n"
      ]
    },
    {
      "cell_type": "markdown",
      "metadata": {
        "id": "H5ZlBsI2PMIi"
      },
      "source": [
        "**Решение:**"
      ]
    },
    {
      "cell_type": "code",
      "execution_count": null,
      "metadata": {
        "colab": {
          "base_uri": "https://localhost:8080/"
        },
        "id": "6amsYUCoPMIn",
        "outputId": "a7392385-f6a8-4d35-dc9f-ce3b3c8e6642"
      },
      "outputs": [
        {
          "output_type": "stream",
          "name": "stdout",
          "text": [
            "Сумма всех элементов в подвыборке по строкам с нечетным индексом: 253\n"
          ]
        }
      ],
      "source": [
        "import numpy as np\n",
        "\n",
        "# Задаем seed для воспроизводимости результатов\n",
        "np.random.seed(1000)\n",
        "\n",
        "# Генерируем случайный массив ndarray размера (10,10) из целых чисел на отрезке [0, 10]\n",
        "array = np.random.randint(0, 11, size=(10, 10))\n",
        "\n",
        "# Выбираем строки с нечетным индексом\n",
        "odd_rows = array[1::2]\n",
        "\n",
        "# Находим сумму всех элементов в полученной матрице\n",
        "sum_odd_rows = np.sum(odd_rows)\n",
        "\n",
        "print(\"Сумма всех элементов в подвыборке по строкам с нечетным индексом:\", sum_odd_rows)"
      ]
    }
  ],
  "metadata": {
    "colab": {
      "provenance": []
    },
    "kernelspec": {
      "display_name": "Python 3 (ipykernel)",
      "language": "python",
      "name": "python3"
    },
    "language_info": {
      "codemirror_mode": {
        "name": "ipython",
        "version": 3
      },
      "file_extension": ".py",
      "mimetype": "text/x-python",
      "name": "python",
      "nbconvert_exporter": "python",
      "pygments_lexer": "ipython3",
      "version": "3.11.7"
    }
  },
  "nbformat": 4,
  "nbformat_minor": 0
}