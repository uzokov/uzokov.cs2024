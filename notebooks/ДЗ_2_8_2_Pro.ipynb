{
  "cells": [
    {
      "cell_type": "markdown",
      "metadata": {
        "id": "MH-3kVwvJYeP"
      },
      "source": [
        "# 2.8.2 Создание собственных классов"
      ]
    },
    {
      "cell_type": "markdown",
      "metadata": {
        "id": "gMwyKhlQJ1mf"
      },
      "source": [
        "## Задание 1"
      ]
    },
    {
      "cell_type": "markdown",
      "metadata": {
        "id": "Owu684lKKrjJ"
      },
      "source": [
        "**Условие:** Создайте собственный класс ```Person``` работника компании. Добавьте следующие атрибуты данных, использую конструктор ```__init__```:\n",
        "\n",
        "*   ```name```(фамилия)\n",
        "*   ```job```(должность)\n",
        "*   ```pai```(зарплата)\n",
        "\n",
        "Создайте метод класса ```person_raise(self, prcnt)```, который повышает зарплату на ```prcnt``` процентов от имеющегося значения. Создайте работника и выведите кортеж с 2мя значениями: (зарплата при создании работника, зарплата после повышения на 20%)\n",
        "\n",
        "**Формат ответа:** кортеж (например, ```(150, 200)```)\n"
      ]
    },
    {
      "cell_type": "markdown",
      "metadata": {
        "id": "OCTvo3fHLaaJ"
      },
      "source": [
        "**Решение:**"
      ]
    },
    {
      "cell_type": "code",
      "execution_count": null,
      "metadata": {
        "colab": {
          "base_uri": "https://localhost:8080/"
        },
        "id": "f9_8IGndLeRO",
        "outputId": "27f0d5de-8e79-41c4-ddad-6fb403728cd8"
      },
      "outputs": [
        {
          "output_type": "stream",
          "name": "stdout",
          "text": [
            "(150, 180.0)\n"
          ]
        }
      ],
      "source": [
        "class Person:\n",
        "    def __init__(self, name, job, pay):\n",
        "        self.name = name\n",
        "        self.job = job\n",
        "        self.pay = pay\n",
        "\n",
        "    def person_raise(self, prcnt):\n",
        "        self.pay *= (1 + prcnt / 100)\n",
        "\n",
        "# Создаем работника\n",
        "employee = Person(\"Имя\", \"разработчик\", 150)\n",
        "\n",
        "# Получаем текущую зарплату работника\n",
        "initial_salary = employee.pay\n",
        "\n",
        "# Повышаем зарплату на 20%\n",
        "employee.person_raise(20)\n",
        "\n",
        "# Получаем зарплату после повышения\n",
        "raised_salary = employee.pay\n",
        "\n",
        "# Выводим кортеж с зарплатой до и после повышения\n",
        "result_tuple = (initial_salary, raised_salary)\n",
        "print(result_tuple)"
      ]
    },
    {
      "cell_type": "markdown",
      "metadata": {
        "id": "g5S0h2-wKfGE"
      },
      "source": [
        "## Задание 2"
      ]
    },
    {
      "cell_type": "markdown",
      "metadata": {
        "id": "orX7BUzcPKKf"
      },
      "source": [
        "**Условие:** Создайте класс ```Manager``` наследника класса ```Person```, который имеет дополнительный атрибут данных ```client_counts```(количество клиентов). В классе ```Manager``` создайте метод ```manager_raise()```, который\n",
        "увеличивает количество клиентов менеджера на 1 и зарплату менеджера на 1%. Выведите кортеж с 2мя значениями: (зарплата менеджера при создании, зарплата после добавления 10 клиентов). Замечание: зарплата менеджера должна быть повышена с использованием методов наследуемого класса.\n",
        "\n",
        "**Формат ответа:** кортеж (например, ```(150, 170)```)\n"
      ]
    },
    {
      "cell_type": "markdown",
      "metadata": {
        "id": "ESSLfwqEPKKn"
      },
      "source": [
        "**Решение:**"
      ]
    },
    {
      "cell_type": "code",
      "execution_count": null,
      "metadata": {
        "colab": {
          "base_uri": "https://localhost:8080/"
        },
        "id": "y8HOlaNLPKKq",
        "outputId": "69ba9e6d-0af7-40a6-ad12-59235bba6e8b"
      },
      "outputs": [
        {
          "output_type": "stream",
          "name": "stdout",
          "text": [
            "(150, 165.6933188116807)\n"
          ]
        }
      ],
      "source": [
        "class Manager(Person):\n",
        "    def __init__(self, name, job, pay, client_counts):\n",
        "        super().__init__(name, job, pay)\n",
        "        self.client_counts = client_counts\n",
        "\n",
        "    def manager_raise(self):\n",
        "        self.client_counts += 1\n",
        "        super().person_raise(1)  # Используем метод person_raise из родительского класса для повышения зарплаты\n",
        "\n",
        "# Создаем менеджера\n",
        "manager = Manager(\"Имя\", \"менеджер\", 150, 5)\n",
        "\n",
        "# Получаем текущую зарплату менеджера\n",
        "initial_salary = manager.pay\n",
        "\n",
        "# Повышаем зарплату менеджера и увеличиваем количество клиентов\n",
        "for _ in range(10):\n",
        "    manager.manager_raise()\n",
        "\n",
        "# Получаем зарплату после добавления 10 клиентов\n",
        "raised_salary = manager.pay\n",
        "\n",
        "# Выводим кортеж с зарплатой до и после добавления 10 клиентов\n",
        "result_tuple = (initial_salary, raised_salary)\n",
        "print(result_tuple)"
      ]
    },
    {
      "cell_type": "markdown",
      "metadata": {
        "id": "tq0Fcrg1KfXQ"
      },
      "source": [
        "## Задание 3"
      ]
    },
    {
      "cell_type": "markdown",
      "metadata": {
        "id": "3xp-jyyHPMIb"
      },
      "source": [
        "**Условие:** Используя конструктор, создайте класс ```Department``` с атрибутами данных:\n",
        "\n",
        "*   ```name```(название департамента)\n",
        "*   ```chief```(начальник - объект класса ```Person```)\n",
        "*   ```person_list```(список подчиненных - объектов классов ```Person``` и ```Manager```)\n",
        "\n",
        "Создайте департамент с ```5``` менеджерами и ```5``` разнорабочими. Создайте метод класса ```xristmas_tree()```, который выберает ```3``` случайных сотрудников (можно/нужно начальника) и повышает им зарплату на ```30%```. Запустите этот метод ```20``` раз и выведите количество поощренных сотрудников(поощренный - получил надбавку хотя бы один раз).\n",
        "\n",
        "**Формат ответа:** число(например, 3)\n"
      ]
    },
    {
      "cell_type": "markdown",
      "metadata": {
        "id": "H5ZlBsI2PMIi"
      },
      "source": [
        "**Решение:**"
      ]
    },
    {
      "cell_type": "code",
      "execution_count": null,
      "metadata": {
        "colab": {
          "base_uri": "https://localhost:8080/"
        },
        "id": "6amsYUCoPMIn",
        "outputId": "b2ce1db6-f971-419a-f805-7c071074d716"
      },
      "outputs": [
        {
          "output_type": "stream",
          "name": "stdout",
          "text": [
            "80\n"
          ]
        }
      ],
      "source": [
        "import random\n",
        "\n",
        "class Department:\n",
        "    def __init__(self, name, chief, person_list):\n",
        "        self.name = name\n",
        "        self.chief = chief\n",
        "        self.person_list = person_list\n",
        "\n",
        "    def xristmas_tree(self):\n",
        "        promoted_count = 0\n",
        "        for _ in range(20):  # Запускаем метод 20 раз\n",
        "            # Выбираем 3 случайных сотрудников (включая начальника)\n",
        "            selected_employees = [self.chief] + random.sample(self.person_list, min(3, len(self.person_list)))\n",
        "            # Повышаем зарплату выбранным сотрудникам на 30%\n",
        "            for employee in selected_employees:\n",
        "                employee.person_raise(30)\n",
        "                promoted_count += 1  # Увеличиваем счетчик поощренных сотрудников\n",
        "        return promoted_count\n",
        "\n",
        "class Person:\n",
        "    def __init__(self, name, job, pay):\n",
        "        self.name = name\n",
        "        self.job = job\n",
        "        self.pay = pay\n",
        "\n",
        "    def person_raise(self, prcnt):\n",
        "        self.pay *= (1 + prcnt / 100)\n",
        "\n",
        "class Manager(Person):\n",
        "    def __init__(self, name, job, pay, client_counts):\n",
        "        super().__init__(name, job, pay)\n",
        "        self.client_counts = client_counts\n",
        "\n",
        "# Создаем менеджеров и разнорабочих\n",
        "managers = [Manager(f\"Manager {i}\", \"Менеджер\", 100, i * 10) for i in range(1, 6)]\n",
        "workers = [Person(f\"Worker {i}\", \"Разнорабочий\", 50) for i in range(1, 6)]\n",
        "\n",
        "# Создаем департамент\n",
        "department = Department(\"Отдел\", managers[0], managers + workers)\n",
        "\n",
        "# Запускаем метод xristmas_tree() 20 раз и выводим количество поощренных сотрудников\n",
        "promoted_count = department.xristmas_tree()\n",
        "print(promoted_count)"
      ]
    }
  ],
  "metadata": {
    "colab": {
      "provenance": []
    },
    "kernelspec": {
      "display_name": "Python 3 (ipykernel)",
      "language": "python",
      "name": "python3"
    },
    "language_info": {
      "codemirror_mode": {
        "name": "ipython",
        "version": 3
      },
      "file_extension": ".py",
      "mimetype": "text/x-python",
      "name": "python",
      "nbconvert_exporter": "python",
      "pygments_lexer": "ipython3",
      "version": "3.11.7"
    }
  },
  "nbformat": 4,
  "nbformat_minor": 0
}