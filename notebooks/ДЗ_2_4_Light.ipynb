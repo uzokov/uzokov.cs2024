{
  "cells": [
    {
      "cell_type": "markdown",
      "metadata": {
        "id": "MH-3kVwvJYeP"
      },
      "source": [
        "# 2.4 Управляющие структуры. Условные ветвления и циклы"
      ]
    },
    {
      "cell_type": "markdown",
      "metadata": {
        "id": "gMwyKhlQJ1mf"
      },
      "source": [
        "## Задание 1"
      ]
    },
    {
      "cell_type": "markdown",
      "metadata": {
        "id": "Owu684lKKrjJ"
      },
      "source": [
        "**Условие:**\n",
        "Вычислить сумму ряда чисел $1/1^2 + 1/2^2 + 1/3^2 + … + 1/n^2$, где $n$ определяется пользователем. Дайте ответ для $n = 50$. Используйте циклы.\n",
        "\n",
        "**Формат ответа:**\n",
        "Число (например, ```0.75```)\n"
      ]
    },
    {
      "cell_type": "markdown",
      "metadata": {
        "id": "OCTvo3fHLaaJ"
      },
      "source": [
        "**Решение:**"
      ]
    },
    {
      "cell_type": "code",
      "execution_count": null,
      "metadata": {
        "colab": {
          "base_uri": "https://localhost:8080/"
        },
        "id": "f9_8IGndLeRO",
        "outputId": "1d5cf5db-6b5c-43a7-9629-c47985325cf1"
      },
      "outputs": [
        {
          "output_type": "stream",
          "name": "stdout",
          "text": [
            "Сумма ряда чисел для n = 50 равна 1.63\n"
          ]
        }
      ],
      "source": [
        "n = 50\n",
        "sum_s = sum(1/i**2 for i in range(1, n+1))\n",
        "\n",
        "print(f\"Сумма ряда чисел для n = {n} равна {sum_s:.2f}\")"
      ]
    },
    {
      "cell_type": "markdown",
      "metadata": {
        "id": "g5S0h2-wKfGE"
      },
      "source": [
        "## Задание 2"
      ]
    },
    {
      "cell_type": "markdown",
      "metadata": {
        "id": "orX7BUzcPKKf"
      },
      "source": [
        "**Условие:**\n",
        "Найдите сумму всех натуральных делителей введенного пользователем натурального числа. В ответе укажите результат для числа ```5120```. Используйте циклы и условные выражения.\n",
        "\n",
        "**Формат ответа:** Целое цисло (например, ```75```)"
      ]
    },
    {
      "cell_type": "markdown",
      "metadata": {
        "id": "ESSLfwqEPKKn"
      },
      "source": [
        "**Решение:**"
      ]
    },
    {
      "cell_type": "code",
      "execution_count": null,
      "metadata": {
        "colab": {
          "base_uri": "https://localhost:8080/"
        },
        "id": "y8HOlaNLPKKq",
        "outputId": "68c9d499-377a-4482-9d32-780d82a97f86"
      },
      "outputs": [
        {
          "output_type": "stream",
          "name": "stdout",
          "text": [
            "Сумма всех натуральных делителей числа 5120 равна 12282\n"
          ]
        }
      ],
      "source": [
        "num = 5120\n",
        "sum_divisors = sum(i for i in range(1, num + 1) if num % i == 0)\n",
        "\n",
        "print(f\"Сумма всех натуральных делителей числа {num} равна {sum_divisors}\")"
      ]
    },
    {
      "cell_type": "markdown",
      "metadata": {
        "id": "tq0Fcrg1KfXQ"
      },
      "source": [
        "## Задание 3"
      ]
    },
    {
      "cell_type": "markdown",
      "metadata": {
        "id": "3xp-jyyHPMIb"
      },
      "source": [
        "**Условие:** Создайте игру, в которой пользователь должен угадать заранее случайным образом выбранное целое число от 1 до 10. Используйте модуль ```random``` и цикл ```while```. Не забудьте поставить условие выхода, например, при вводе символа *. Сыграйте с машиной в эту игру 3 раза и укажите среднее значение попыток до успешного угадывания.\n",
        "\n",
        "**Формат ответа:** Число (например, ```7```)\n"
      ]
    },
    {
      "cell_type": "markdown",
      "metadata": {
        "id": "H5ZlBsI2PMIi"
      },
      "source": [
        "**Решение:**"
      ]
    },
    {
      "cell_type": "code",
      "execution_count": null,
      "metadata": {
        "colab": {
          "base_uri": "https://localhost:8080/"
        },
        "id": "6amsYUCoPMIn",
        "outputId": "4f32a19c-5d5c-4a30-d19a-58463524e0a5"
      },
      "outputs": [
        {
          "output_type": "stream",
          "name": "stdout",
          "text": [
            "Введите число от 1 до 10 или * для выхода: *\n",
            "Игра окончена.\n",
            "Введите число от 1 до 10 или * для выхода: *\n",
            "Игра окончена.\n",
            "Введите число от 1 до 10 или * для выхода: *\n",
            "Игра окончена.\n",
            "Среднее количество попыток: 0.0\n"
          ]
        }
      ],
      "source": [
        "import random\n",
        "\n",
        "def guess_game():\n",
        "    number_to_guess = random.randint(1, 10)\n",
        "    attempts = 0\n",
        "    while True:\n",
        "        user_input = input(\"Введите число от 1 до 10 или * для выхода: \")\n",
        "        if user_input == '*':\n",
        "            print(\"Игра окончена.\")\n",
        "            return attempts\n",
        "        else:\n",
        "            attempts += 1\n",
        "            if int(user_input) == number_to_guess:\n",
        "                print(\"Поздравляем, вы угадали число!\")\n",
        "                return attempts\n",
        "\n",
        "def play_games(n):\n",
        "    total_attempts = 0\n",
        "    for _ in range(n):\n",
        "        total_attempts += guess_game()\n",
        "    return total_attempts / n\n",
        "\n",
        "print(f\"Среднее количество попыток: {play_games(3)}\")"
      ]
    }
  ],
  "metadata": {
    "colab": {
      "provenance": []
    },
    "kernelspec": {
      "display_name": "Python 3 (ipykernel)",
      "language": "python",
      "name": "python3"
    },
    "language_info": {
      "codemirror_mode": {
        "name": "ipython",
        "version": 3
      },
      "file_extension": ".py",
      "mimetype": "text/x-python",
      "name": "python",
      "nbconvert_exporter": "python",
      "pygments_lexer": "ipython3",
      "version": "3.11.7"
    }
  },
  "nbformat": 4,
  "nbformat_minor": 0
}