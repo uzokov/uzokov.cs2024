{
  "cells": [
    {
      "cell_type": "markdown",
      "metadata": {
        "id": "MH-3kVwvJYeP"
      },
      "source": [
        "\n",
        "# 3.2.4 Математические и статистические операции"
      ]
    },
    {
      "cell_type": "markdown",
      "metadata": {
        "id": "gMwyKhlQJ1mf"
      },
      "source": [
        "## Задание 1"
      ]
    },
    {
      "cell_type": "markdown",
      "metadata": {
        "id": "Owu684lKKrjJ"
      },
      "source": [
        "**Условие:**\n",
        "Создайте случайный целочисленный массив ```ndarray``` размера ```(10,10)``` элементов, принадлежащих отрезку ```[0,10]```. С помощью методов ```np.mean()``` и ```np.std()``` центрируйте и нормируйте элементы в столбцах. Найдите разброс полученных значений в полученной матрице. Используйте ```np.random.seed(1000)``` перед генерацией массива для воспроизводимости результатов.\n",
        "\n",
        "**Формат ответа:**\n",
        "Кортеж чисел (например, ```(-0.45,0.89)```)\n",
        "\n"
      ]
    },
    {
      "cell_type": "markdown",
      "metadata": {
        "id": "OCTvo3fHLaaJ"
      },
      "source": [
        "**Решение:**"
      ]
    },
    {
      "cell_type": "code",
      "execution_count": null,
      "metadata": {
        "colab": {
          "base_uri": "https://localhost:8080/"
        },
        "id": "f9_8IGndLeRO",
        "outputId": "a8176128-843e-4be9-edd7-461d27ef0345"
      },
      "outputs": [
        {
          "output_type": "stream",
          "name": "stdout",
          "text": [
            "Разброс полученных значений в полученной матрице: 0.9999999999999999\n"
          ]
        }
      ],
      "source": [
        "import numpy as np\n",
        "\n",
        "# Установим seed для воспроизводимости результатов\n",
        "np.random.seed(1000)\n",
        "\n",
        "# Создаем случайный целочисленный массив ndarray размера (10,10) элементов, принадлежащих отрезку [0,10]\n",
        "array = np.random.randint(0, 11, size=(10, 10))\n",
        "\n",
        "# Центрируем элементы в столбцах\n",
        "centered_array = array - np.mean(array, axis=0)\n",
        "\n",
        "# Нормируем элементы в столбцах\n",
        "std_dev = np.std(centered_array, axis=0)\n",
        "normalized_array = centered_array / std_dev\n",
        "\n",
        "# Найдем разброс полученных значений в полученной матрице\n",
        "variance = np.var(normalized_array)\n",
        "\n",
        "print(\"Разброс полученных значений в полученной матрице:\", variance)"
      ]
    },
    {
      "cell_type": "markdown",
      "metadata": {
        "id": "g5S0h2-wKfGE"
      },
      "source": [
        "## Задание 2"
      ]
    },
    {
      "cell_type": "markdown",
      "metadata": {
        "id": "orX7BUzcPKKf"
      },
      "source": [
        "**Условие:**\n",
        "Создайте случайный целочисленный массив ```ndarray``` размера ```(15,15)``` элементов, принадлежащих отрезку ```[0,10]```. С помощью методов булевых массивов найдите количество четных элементов в полученном массиве. Используйте ```np.random.seed(1000)``` перед генерацией массива для воспроизводимости результатов.\n",
        "\n",
        "**Формат ответа:**\n",
        "Число (например, ```56```)\n"
      ]
    },
    {
      "cell_type": "markdown",
      "metadata": {
        "id": "ESSLfwqEPKKn"
      },
      "source": [
        "**Решение:**"
      ]
    },
    {
      "cell_type": "code",
      "execution_count": null,
      "metadata": {
        "colab": {
          "base_uri": "https://localhost:8080/"
        },
        "id": "y8HOlaNLPKKq",
        "outputId": "291f70ed-9ccf-4da0-86e2-2ea3430a1e4f"
      },
      "outputs": [
        {
          "output_type": "stream",
          "name": "stdout",
          "text": [
            "Количество четных элементов в полученном массиве: 124\n"
          ]
        }
      ],
      "source": [
        "import numpy as np\n",
        "\n",
        "# Установим seed для воспроизводимости результатов\n",
        "np.random.seed(1000)\n",
        "\n",
        "# Создаем случайный целочисленный массив ndarray размера (15,15) элементов, принадлежащих отрезку [0,10]\n",
        "array = np.random.randint(0, 11, size=(15, 15))\n",
        "\n",
        "# Создаем булев массив, где True соответствует четным элементам\n",
        "even_mask = array % 2 == 0\n",
        "\n",
        "# Находим количество четных элементов в полученном массиве\n",
        "num_even_elements = np.sum(even_mask)\n",
        "\n",
        "print(\"Количество четных элементов в полученном массиве:\", num_even_elements)"
      ]
    },
    {
      "cell_type": "markdown",
      "metadata": {
        "id": "tq0Fcrg1KfXQ"
      },
      "source": [
        "## Задание 3"
      ]
    },
    {
      "cell_type": "markdown",
      "metadata": {
        "id": "3xp-jyyHPMIb"
      },
      "source": [
        "**Условие:**\n",
        "Напишите функцию, которая принимает на вход квадратную матрицу и находит ее определитель. Если определитель отличен от нуля, то функция возвращает определитель матрицы, которая является обратной к транспанированной исходной матрице, иначе выдает ноль. Проверьте работоспособность на матрице, указанной в пункте решение.\n",
        "\n",
        "**Формат ответа:**\n",
        "Число (например, ```2.7```)\n",
        "\n",
        "\n"
      ]
    },
    {
      "cell_type": "markdown",
      "metadata": {
        "id": "H5ZlBsI2PMIi"
      },
      "source": [
        "**Решение:**"
      ]
    },
    {
      "cell_type": "code",
      "execution_count": null,
      "metadata": {
        "id": "6amsYUCoPMIn"
      },
      "outputs": [],
      "source": [
        "_INPUT_MATR_ = np.array([[2,5,7],\n",
        "                        [6,3,4],\n",
        "                        [5,-2,-3]])"
      ]
    },
    {
      "cell_type": "code",
      "execution_count": null,
      "metadata": {
        "colab": {
          "base_uri": "https://localhost:8080/"
        },
        "id": "2IsoWN0glMYv",
        "outputId": "1532491e-0a32-408d-e3f9-7a5adfd20b96"
      },
      "outputs": [
        {
          "output_type": "stream",
          "name": "stdout",
          "text": [
            "Результат: -0.9999999999999121\n"
          ]
        }
      ],
      "source": [
        "import numpy as np\n",
        "\n",
        "def determinant_and_inverse(matrix):\n",
        "    # Находим определитель исходной матрицы\n",
        "    det = np.linalg.det(matrix)\n",
        "\n",
        "    # Если определитель не равен нулю\n",
        "    if det != 0:\n",
        "        # Находим транспонированную матрицу\n",
        "        transposed_matrix = np.transpose(matrix)\n",
        "        # Находим обратную матрицу к транспонированной\n",
        "        inverse_transposed_matrix = np.linalg.inv(transposed_matrix)\n",
        "        # Возвращаем определитель обратной матрицы\n",
        "        return np.linalg.det(inverse_transposed_matrix)\n",
        "    else:\n",
        "        # Если определитель равен нулю, возвращаем ноль\n",
        "        return 0\n",
        "\n",
        "# Пример матрицы, указанный в условии\n",
        "input_matrix = np.array([[2,5,7],\n",
        "                        [6,3,4],\n",
        "                        [5,-2,-3]])\n",
        "\n",
        "# Вызываем функцию для определения работы\n",
        "result = determinant_and_inverse(input_matrix)\n",
        "print(\"Результат:\", result)"
      ]
    }
  ],
  "metadata": {
    "colab": {
      "provenance": []
    },
    "kernelspec": {
      "display_name": "Python 3 (ipykernel)",
      "language": "python",
      "name": "python3"
    },
    "language_info": {
      "codemirror_mode": {
        "name": "ipython",
        "version": 3
      },
      "file_extension": ".py",
      "mimetype": "text/x-python",
      "name": "python",
      "nbconvert_exporter": "python",
      "pygments_lexer": "ipython3",
      "version": "3.11.7"
    }
  },
  "nbformat": 4,
  "nbformat_minor": 0
}