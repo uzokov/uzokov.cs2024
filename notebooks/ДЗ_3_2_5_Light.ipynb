{
  "cells": [
    {
      "cell_type": "markdown",
      "metadata": {
        "id": "MH-3kVwvJYeP"
      },
      "source": [
        "\n",
        "# 3.2.5 Файловый ввод-вывод массивов"
      ]
    },
    {
      "cell_type": "markdown",
      "metadata": {
        "id": "gMwyKhlQJ1mf"
      },
      "source": [
        "## Задание 1"
      ]
    },
    {
      "cell_type": "markdown",
      "metadata": {
        "id": "Owu684lKKrjJ"
      },
      "source": [
        "**Условие:**\n",
        "Создайте массив ```ndarray``` размера ```(20,20)``` элементов, взятых из равномерного распределения на полуинтервале ```[0,1)```. Запишите данный массив в файл в бинарном и текстовом виде. Найдите абсолютное значение разности байтовых размеров полученных файлов. Используйте ```np.random.seed(1000)``` перед генерацией массива для воспроизводимости результатов.\n",
        "\n",
        "**Формат ответа:**\n",
        "Число (например, ```100```)\n",
        "\n"
      ]
    },
    {
      "cell_type": "markdown",
      "metadata": {
        "id": "OCTvo3fHLaaJ"
      },
      "source": [
        "**Решение:**"
      ]
    },
    {
      "cell_type": "code",
      "execution_count": null,
      "metadata": {
        "colab": {
          "base_uri": "https://localhost:8080/"
        },
        "id": "f9_8IGndLeRO",
        "outputId": "60bd6b13-f848-4978-fcb3-4dccb6c74334"
      },
      "outputs": [
        {
          "output_type": "stream",
          "name": "stdout",
          "text": [
            "Абсолютное значение разности байтовых размеров файлов: 13.0\n"
          ]
        }
      ],
      "source": [
        "import numpy as np\n",
        "\n",
        "# Установим seed для воспроизводимости результатов\n",
        "np.random.seed(1000)\n",
        "\n",
        "# Создаем массив ndarray размера (20,20) из равномерного распределения на полуинтервале [0,1)\n",
        "array = np.random.uniform(low=0, high=1, size=(20, 20))\n",
        "\n",
        "# Записываем массив в бинарный файл\n",
        "with open('array_binary.bin', 'wb') as f:\n",
        "    array.tofile(f)\n",
        "\n",
        "# Записываем массив в текстовый файл\n",
        "np.savetxt('array_text.txt', array)\n",
        "\n",
        "# Находим размеры файлов\n",
        "binary_size = np.round(np.ceil(np.log2(array.size * array.itemsize) / 8), 2)  # байты\n",
        "text_size = np.round(np.ceil(np.log2(array.size * array.itemsize * 8)), 2)  # байты\n",
        "\n",
        "# Находим абсолютное значение разности размеров файлов\n",
        "abs_size_diff = abs(binary_size - text_size)\n",
        "\n",
        "print(\"Абсолютное значение разности байтовых размеров файлов:\", abs_size_diff)"
      ]
    },
    {
      "cell_type": "markdown",
      "metadata": {
        "id": "g5S0h2-wKfGE"
      },
      "source": [
        "## Задание 2"
      ]
    },
    {
      "cell_type": "markdown",
      "metadata": {
        "id": "orX7BUzcPKKf"
      },
      "source": [
        "**Условие:**\n",
        "Создайте массив ```ndarray``` размера ```100``` из элементов, взятых из стандартного нормального распределения. Запишите данный массив в файл в бинарном виде. Считайте массив из файла, с использованием целочисленного типа данных. Найдите абсолютное значение разности сумм элементов исходного массива и считанного из файла. Используйте ```np.random.seed(1000)``` перед генерацией массива для воспроизводимости результатов.\n",
        "\n",
        "**Формат ответа:**\n",
        "Число (например, ```102.4```)\n",
        "\n"
      ]
    },
    {
      "cell_type": "markdown",
      "metadata": {
        "id": "ESSLfwqEPKKn"
      },
      "source": [
        "**Решение:**"
      ]
    },
    {
      "cell_type": "code",
      "execution_count": null,
      "metadata": {
        "colab": {
          "base_uri": "https://localhost:8080/"
        },
        "id": "y8HOlaNLPKKq",
        "outputId": "633ae453-5004-4740-f39a-96a7a553fb2b"
      },
      "outputs": [
        {
          "output_type": "stream",
          "name": "stdout",
          "text": [
            "Абсолютное значение разности сумм элементов: 0.0\n"
          ]
        }
      ],
      "source": [
        "import numpy as np\n",
        "\n",
        "# Установим seed для воспроизводимости результатов\n",
        "np.random.seed(1000)\n",
        "\n",
        "# Создаем массив ndarray размера 100 из стандартного нормального распределения\n",
        "array = np.random.randn(100)\n",
        "\n",
        "# Записываем массив в бинарный файл\n",
        "with open('array_binary.bin', 'wb') as f:\n",
        "    array.astype(np.float64).tofile(f)\n",
        "\n",
        "# Считываем массив из файла с использованием целочисленного типа данных\n",
        "with open('array_binary.bin', 'rb') as f:\n",
        "    array_read = np.fromfile(f, dtype=np.float64)\n",
        "\n",
        "# Находим абсолютное значение разности сумм элементов исходного массива и считанного из файла\n",
        "abs_sum_diff = np.abs(np.sum(array) - np.sum(array_read))\n",
        "\n",
        "print(\"Абсолютное значение разности сумм элементов:\", abs_sum_diff)"
      ]
    },
    {
      "cell_type": "markdown",
      "metadata": {
        "id": "tq0Fcrg1KfXQ"
      },
      "source": [
        "## Задание 3"
      ]
    },
    {
      "cell_type": "markdown",
      "metadata": {
        "id": "3xp-jyyHPMIb"
      },
      "source": [
        "**Условие:**\n",
        "Напишите функцию, которая принимает на вход квадратную матрицу и находит ее определитель. Если определитель отличен от нуля, то функция возвращает определитель матрицы, которая является обратной к транспанированной исходной матрице, иначе выдает ноль. Проверьте работоспособность на матрице, указанной в пункте решение.\n",
        "\n",
        "**Формат ответа:**\n",
        "Число (например, ```2.7```)\n",
        "\n"
      ]
    },
    {
      "cell_type": "markdown",
      "metadata": {
        "id": "H5ZlBsI2PMIi"
      },
      "source": [
        "**Решение:**"
      ]
    },
    {
      "cell_type": "code",
      "execution_count": null,
      "metadata": {
        "id": "6amsYUCoPMIn"
      },
      "outputs": [],
      "source": [
        "# Тут что-то должно было быть? o_o"
      ]
    },
    {
      "cell_type": "code",
      "execution_count": null,
      "metadata": {
        "colab": {
          "base_uri": "https://localhost:8080/"
        },
        "id": "2IsoWN0glMYv",
        "outputId": "91378df2-b002-485e-e988-5ad47d50d47e"
      },
      "outputs": [
        {
          "output_type": "stream",
          "name": "stdout",
          "text": [
            "Результат: -0.9999999999999121\n"
          ]
        }
      ],
      "source": [
        "import numpy as np\n",
        "\n",
        "def determinant_and_inverse(matrix):\n",
        "    # Находим определитель исходной матрицы\n",
        "    det = np.linalg.det(matrix)\n",
        "\n",
        "    # Если определитель не равен нулю\n",
        "    if det != 0:\n",
        "        # Находим транспонированную матрицу\n",
        "        transposed_matrix = np.transpose(matrix)\n",
        "        # Находим обратную матрицу к транспонированной\n",
        "        inverse_transposed_matrix = np.linalg.inv(transposed_matrix)\n",
        "        # Возвращаем определитель обратной матрицы\n",
        "        return np.linalg.det(inverse_transposed_matrix)\n",
        "    else:\n",
        "        # Если определитель равен нулю, возвращаем ноль\n",
        "        return 0\n",
        "\n",
        "# Пример матрицы, указанный в условии\n",
        "input_matrix = np.array([[2,5,7],\n",
        "                        [6,3,4],\n",
        "                        [5,-2,-3]])\n",
        "\n",
        "# Вызываем функцию для определения работы\n",
        "result = determinant_and_inverse(input_matrix)\n",
        "print(\"Результат:\", result)"
      ]
    }
  ],
  "metadata": {
    "colab": {
      "provenance": []
    },
    "kernelspec": {
      "display_name": "Python 3 (ipykernel)",
      "language": "python",
      "name": "python3"
    },
    "language_info": {
      "codemirror_mode": {
        "name": "ipython",
        "version": 3
      },
      "file_extension": ".py",
      "mimetype": "text/x-python",
      "name": "python",
      "nbconvert_exporter": "python",
      "pygments_lexer": "ipython3",
      "version": "3.11.7"
    }
  },
  "nbformat": 4,
  "nbformat_minor": 0
}