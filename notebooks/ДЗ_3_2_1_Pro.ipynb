{
  "cells": [
    {
      "cell_type": "markdown",
      "metadata": {
        "id": "MH-3kVwvJYeP"
      },
      "source": [
        "\n",
        "# 3.2.1 Быстрые поэлементные операции над массивами"
      ]
    },
    {
      "cell_type": "markdown",
      "metadata": {
        "id": "gMwyKhlQJ1mf"
      },
      "source": [
        "## Задание 1"
      ]
    },
    {
      "cell_type": "markdown",
      "metadata": {
        "id": "Owu684lKKrjJ"
      },
      "source": [
        "**Условие:**\n",
        "Создайте произвольный массив ```ndarray``` из 10 элементов типа ```float16```. Присутствие ненулевых дробных частей у элементов обязательно. С использованием методов ```numpy``` отделите дробные части элементов и найдите их среднее значение.\n",
        "\n",
        "**Формат ответа:**\n",
        "Число (например, ```0.2```)\n"
      ]
    },
    {
      "cell_type": "markdown",
      "metadata": {
        "id": "OCTvo3fHLaaJ"
      },
      "source": [
        "**Решение:**"
      ]
    },
    {
      "cell_type": "code",
      "execution_count": null,
      "metadata": {
        "id": "f9_8IGndLeRO"
      },
      "outputs": [],
      "source": [
        "import numpy as np\n",
        "\n",
        "# Создание произвольного массива ndarray из 10 элементов типа float16\n",
        "array = np.random.rand(10).astype(np.float16)\n",
        "\n",
        "# Отделение дробных частей элементов\n",
        "fractional_parts = array - np.floor(array)\n",
        "\n",
        "# Нахождение среднего значения дробных частей\n",
        "mean_fractional_part = np.mean(fractional_parts)\n",
        "\n",
        "print(\"Массив элементов:\", array)\n",
        "print(\"Дробные части элементов:\", fractional_parts)\n",
        "print(\"Среднее значение дробных частей:\", mean_fractional_part)"
      ]
    },
    {
      "cell_type": "markdown",
      "metadata": {
        "id": "g5S0h2-wKfGE"
      },
      "source": [
        "## Задание 2"
      ]
    },
    {
      "cell_type": "markdown",
      "metadata": {
        "id": "orX7BUzcPKKf"
      },
      "source": [
        "**Условие:**\n",
        "Создайте два произвольных целочисленных массива ```ndarray``` длины ```10``` и найдите количество позиций, в которых значения первого массива в ```3``` раза больше(не строго) значений второго массива при поэлементном сравнивании.\n",
        "\n",
        "**Формат ответа:**\n",
        "Число (например, ```5```)\n",
        "\n"
      ]
    },
    {
      "cell_type": "markdown",
      "metadata": {
        "id": "ESSLfwqEPKKn"
      },
      "source": [
        "**Решение:**"
      ]
    },
    {
      "cell_type": "code",
      "execution_count": null,
      "metadata": {
        "colab": {
          "base_uri": "https://localhost:8080/"
        },
        "id": "y8HOlaNLPKKq",
        "outputId": "ef22ac08-e22f-4298-a231-de48b11b6e90"
      },
      "outputs": [
        {
          "output_type": "stream",
          "name": "stdout",
          "text": [
            "Массив 1: [58 70 62 60  6 51 33 10 72 46]\n",
            "Массив 2: [60 80 27 92  8 47 90 28 59 27]\n",
            "Результат сравнения (позиции, где значения массива 1 в 3 раза больше значений массива 2): [False False False False False False False False False False]\n",
            "Количество позиций: 0\n"
          ]
        }
      ],
      "source": [
        "import numpy as np\n",
        "\n",
        "# Создание двух произвольных целочисленных массивов ndarray длины 10\n",
        "array1 = np.random.randint(1, 100, size=10)\n",
        "array2 = np.random.randint(1, 100, size=10)\n",
        "\n",
        "# Поэлементное сравнивание значений массивов\n",
        "comparison_result = array1 >= array2 * 3\n",
        "\n",
        "# Нахождение количества позиций, удовлетворяющих условию\n",
        "count_positions = np.sum(comparison_result)\n",
        "\n",
        "print(\"Массив 1:\", array1)\n",
        "print(\"Массив 2:\", array2)\n",
        "print(\"Результат сравнения (позиции, где значения массива 1 в 3 раза больше значений массива 2):\", comparison_result)\n",
        "print(\"Количество позиций:\", count_positions)"
      ]
    },
    {
      "cell_type": "markdown",
      "metadata": {
        "id": "tq0Fcrg1KfXQ"
      },
      "source": [
        "## Задание 3"
      ]
    },
    {
      "cell_type": "markdown",
      "metadata": {
        "id": "3xp-jyyHPMIb"
      },
      "source": [
        "**Условие:**\n",
        "Создайте массив ```ndarray``` длины ```20``` типа ```float16``` и с использованием методов numpy, найдите среднее и среднеквадратическое отклонение **по формулам**(np.mean и np.std можно использовать только для проверки результатов): для массива $\\{x_i\\}$\n",
        "\n",
        "*   $\\mu = \\frac{1}{n}(x_1 + ... x_n) $\n",
        "*   $\\sigma = \\sqrt{\\frac{1}{n}\\sum_{i=1}^{n}(x_i-\\mu)^2}$\n",
        "\n",
        "**Формат ответа:**\n",
        "Кортеж из 2х чисел (например, ```(3.2, 5.1)```)\n",
        "\n"
      ]
    },
    {
      "cell_type": "markdown",
      "metadata": {
        "id": "H5ZlBsI2PMIi"
      },
      "source": [
        "**Решение:**"
      ]
    },
    {
      "cell_type": "code",
      "execution_count": null,
      "metadata": {
        "colab": {
          "base_uri": "https://localhost:8080/"
        },
        "id": "6amsYUCoPMIn",
        "outputId": "a7d4754d-2b1f-4173-e032-3c6e7e7c5459"
      },
      "outputs": [
        {
          "output_type": "stream",
          "name": "stdout",
          "text": [
            "Среднее значение (рассчитанное): 0.49765625\n",
            "Среднеквадратическое отклонение (рассчитанное): 0.26718293124748815\n",
            "Среднее значение (NumPy): 0.4976\n",
            "Среднеквадратическое отклонение (NumPy): 0.2673\n"
          ]
        }
      ],
      "source": [
        "import numpy as np\n",
        "\n",
        "# Создание массива ndarray длины 20 типа float16\n",
        "array = np.random.rand(20).astype(np.float16)\n",
        "\n",
        "# Нахождение среднего значения\n",
        "mean = np.sum(array) / len(array)\n",
        "\n",
        "# Нахождение суммы квадратов разностей\n",
        "squared_diff_sum = np.sum((array - mean) ** 2)\n",
        "\n",
        "# Нахождение среднеквадратического отклонения\n",
        "std_deviation = np.sqrt(squared_diff_sum / len(array))\n",
        "\n",
        "# Проверка результатов с использованием np.mean и np.std\n",
        "mean_np = np.mean(array)\n",
        "std_deviation_np = np.std(array)\n",
        "\n",
        "print(\"Среднее значение (рассчитанное):\", mean)\n",
        "print(\"Среднеквадратическое отклонение (рассчитанное):\", std_deviation)\n",
        "\n",
        "print(\"Среднее значение (NumPy):\", mean_np)\n",
        "print(\"Среднеквадратическое отклонение (NumPy):\", std_deviation_np)"
      ]
    }
  ],
  "metadata": {
    "colab": {
      "provenance": []
    },
    "kernelspec": {
      "display_name": "Python 3 (ipykernel)",
      "language": "python",
      "name": "python3"
    },
    "language_info": {
      "codemirror_mode": {
        "name": "ipython",
        "version": 3
      },
      "file_extension": ".py",
      "mimetype": "text/x-python",
      "name": "python",
      "nbconvert_exporter": "python",
      "pygments_lexer": "ipython3",
      "version": "3.11.7"
    }
  },
  "nbformat": 4,
  "nbformat_minor": 0
}