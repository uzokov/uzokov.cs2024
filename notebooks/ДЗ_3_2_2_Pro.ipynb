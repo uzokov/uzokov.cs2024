{
  "cells": [
    {
      "cell_type": "markdown",
      "metadata": {
        "id": "MH-3kVwvJYeP"
      },
      "source": [
        "\n",
        "# 3.2.2 Индексирование и вырезание"
      ]
    },
    {
      "cell_type": "markdown",
      "metadata": {
        "id": "gMwyKhlQJ1mf"
      },
      "source": [
        "## Задание 1"
      ]
    },
    {
      "cell_type": "markdown",
      "metadata": {
        "id": "Owu684lKKrjJ"
      },
      "source": [
        "**Условие:**\n",
        "Создайте случайный целочисленный массив ```ndarray``` из ```1000``` элементов, принадлежащих интервалу ```[2,10]```. С помощью булевой индексации найдите все простые элементы в массиве. Найдите сумму полученных элементов. Используйте ```np.random.seed(1000)``` перед генерацией массива для воспроизводимости результатов.\n",
        "\n",
        "**Формат ответа:**\n",
        "Число (например, ```94```)\n",
        "\n"
      ]
    },
    {
      "cell_type": "markdown",
      "metadata": {
        "id": "OCTvo3fHLaaJ"
      },
      "source": [
        "**Решение:**"
      ]
    },
    {
      "cell_type": "code",
      "execution_count": null,
      "metadata": {
        "colab": {
          "base_uri": "https://localhost:8080/"
        },
        "id": "f9_8IGndLeRO",
        "outputId": "04c76ea4-1ce7-472b-bfe5-49c289d861e1"
      },
      "outputs": [
        {
          "output_type": "stream",
          "name": "stdout",
          "text": [
            "Сумма простых элементов: 1798\n"
          ]
        }
      ],
      "source": [
        "import numpy as np\n",
        "\n",
        "# Установка seed для воспроизводимости результатов\n",
        "np.random.seed(1000)\n",
        "\n",
        "# Создание случайного целочисленного массива ndarray из 1000 элементов в интервале [2, 10]\n",
        "arr = np.random.randint(2, 11, size=1000)\n",
        "\n",
        "# Функция для проверки, является ли число простым\n",
        "def is_prime(n):\n",
        "    if n <= 1:\n",
        "        return False\n",
        "    if n <= 3:\n",
        "        return True\n",
        "    if n % 2 == 0 or n % 3 == 0:\n",
        "        return False\n",
        "    i = 5\n",
        "    while i * i <= n:\n",
        "        if n % i == 0 or n % (i + 2) == 0:\n",
        "            return False\n",
        "        i += 6\n",
        "    return True\n",
        "\n",
        "# Булева индексация для поиска простых чисел в массиве\n",
        "prime_indices = np.array([is_prime(num) for num in arr])\n",
        "\n",
        "# Получение простых элементов массива\n",
        "prime_elements = arr[prime_indices]\n",
        "\n",
        "# Нахождение суммы простых элементов\n",
        "sum_of_primes = np.sum(prime_elements)\n",
        "\n",
        "print(\"Сумма простых элементов:\", sum_of_primes)"
      ]
    },
    {
      "cell_type": "markdown",
      "metadata": {
        "id": "g5S0h2-wKfGE"
      },
      "source": [
        "## Задание 2"
      ]
    },
    {
      "cell_type": "markdown",
      "metadata": {
        "id": "orX7BUzcPKKf"
      },
      "source": [
        "**Условие:**\n",
        "Создайте случайный целочисленный массив ```ndarray``` размера ```(10,10)``` элементов, принадлежащих отрезку ```[0,10]```. Найдите сумму квадратов элементов главной диагонали, не используя циклы. Используйте ```np.random.seed(1000)``` перед генерацией массива для воспроизводимости результатов.\n",
        "\n",
        "**Формат ответа:**\n",
        "Число (например, ```150```)\n",
        "\n"
      ]
    },
    {
      "cell_type": "markdown",
      "metadata": {
        "id": "ESSLfwqEPKKn"
      },
      "source": [
        "**Решение:**"
      ]
    },
    {
      "cell_type": "code",
      "execution_count": null,
      "metadata": {
        "colab": {
          "base_uri": "https://localhost:8080/"
        },
        "id": "y8HOlaNLPKKq",
        "outputId": "4b5a2508-8061-47b9-d702-a541b273ab5e"
      },
      "outputs": [
        {
          "output_type": "stream",
          "name": "stdout",
          "text": [
            "Сумма квадратов элементов главной диагонали: 370\n"
          ]
        }
      ],
      "source": [
        "import numpy as np\n",
        "\n",
        "# Установка seed для воспроизводимости результатов\n",
        "np.random.seed(1000)\n",
        "\n",
        "# Создание случайного целочисленного массива ndarray размера (10,10) элементов в интервале [0, 10]\n",
        "arr = np.random.randint(0, 11, size=(10, 10))\n",
        "\n",
        "# Нахождение суммы квадратов элементов главной диагонали без использования циклов\n",
        "sum_of_diagonal_squares = np.sum(np.diag(arr) ** 2)\n",
        "\n",
        "print(\"Сумма квадратов элементов главной диагонали:\", sum_of_diagonal_squares)"
      ]
    },
    {
      "cell_type": "markdown",
      "metadata": {
        "id": "tq0Fcrg1KfXQ"
      },
      "source": [
        "## Задание 3"
      ]
    },
    {
      "cell_type": "markdown",
      "metadata": {
        "id": "3xp-jyyHPMIb"
      },
      "source": [
        "**Условие:**\n",
        "Создайте случайный трехмерный целочисленный массив ```ndarray``` размера ```(10,10,10)``` элементов, принадлежащих отрезку ```[0,10]```. Напомним, что подвыборка по первой оси вида ```[0,:,:]``` является матрицей размера ```(10,10)```. Найти поэлементную сумму всех матриц, полученных описанной выше операцией среза при прохождении вдоль всей первой оси (```[0,:,:]```, ```[1,:,:]``` и т.д.). В ответе укажите максимальный элемент в получившейся матрице. Используйте ```np.random.seed(1000)``` перед генерацией массива для воспроизводимости результатов.\n",
        "\n",
        "**Формат ответа:**\n",
        "Число (например, ```50```)\n",
        "\n"
      ]
    },
    {
      "cell_type": "markdown",
      "metadata": {
        "id": "H5ZlBsI2PMIi"
      },
      "source": [
        "**Решение:**"
      ]
    },
    {
      "cell_type": "code",
      "execution_count": null,
      "metadata": {
        "colab": {
          "base_uri": "https://localhost:8080/"
        },
        "id": "6amsYUCoPMIn",
        "outputId": "1115b7b1-997f-4dbb-e75d-a6641b30bcf8"
      },
      "outputs": [
        {
          "output_type": "stream",
          "name": "stdout",
          "text": [
            "Максимальный элемент в получившейся матрице: 74\n"
          ]
        }
      ],
      "source": [
        "import numpy as np\n",
        "\n",
        "# Установка seed для воспроизводимости результатов\n",
        "np.random.seed(1000)\n",
        "\n",
        "# Создание трехмерного целочисленного массива ndarray размера (10, 10, 10) элементов в интервале [0, 10]\n",
        "arr = np.random.randint(0, 11, size=(10, 10, 10))\n",
        "\n",
        "# Вычисление поэлементной суммы всех матриц, полученных срезами по первой оси\n",
        "sum_along_first_axis = np.sum(arr, axis=0)\n",
        "\n",
        "# Нахождение максимального элемента в получившейся матрице\n",
        "max_element = np.max(sum_along_first_axis)\n",
        "\n",
        "print(\"Максимальный элемент в получившейся матрице:\", max_element)"
      ]
    }
  ],
  "metadata": {
    "colab": {
      "provenance": []
    },
    "kernelspec": {
      "display_name": "Python 3 (ipykernel)",
      "language": "python",
      "name": "python3"
    },
    "language_info": {
      "codemirror_mode": {
        "name": "ipython",
        "version": 3
      },
      "file_extension": ".py",
      "mimetype": "text/x-python",
      "name": "python",
      "nbconvert_exporter": "python",
      "pygments_lexer": "ipython3",
      "version": "3.11.7"
    }
  },
  "nbformat": 4,
  "nbformat_minor": 0
}