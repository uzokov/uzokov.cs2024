{
  "cells": [
    {
      "cell_type": "markdown",
      "metadata": {
        "id": "MH-3kVwvJYeP"
      },
      "source": [
        "# 2.9.2 Работа с аргументами командной строки, время и дата"
      ]
    },
    {
      "cell_type": "markdown",
      "metadata": {
        "id": "gMwyKhlQJ1mf"
      },
      "source": [
        "## Задание 1"
      ]
    },
    {
      "cell_type": "markdown",
      "metadata": {
        "id": "Owu684lKKrjJ"
      },
      "source": [
        "**Условие:**\n",
        "Методами библиотеки ```datetime``` найдите название дня недели, в который вы родились.\n",
        "\n",
        "**Формат ответа:** кортеж (например, ```('monday')```)\n",
        "\n",
        "**Решение:**"
      ]
    },
    {
      "cell_type": "code",
      "execution_count": null,
      "metadata": {
        "colab": {
          "base_uri": "https://localhost:8080/"
        },
        "id": "luUrwNWQ1lVE",
        "outputId": "3772b61c-5483-477d-c4e7-ad53b6684749"
      },
      "outputs": [
        {
          "output_type": "stream",
          "name": "stdout",
          "text": [
            "wednesday\n"
          ]
        }
      ],
      "source": [
        "import datetime\n",
        "\n",
        "# Замените год, месяц и день на вашу дату рождения\n",
        "birthdate = datetime.date(2004, 9, 29) # Формат времени: yyyy, mm, dd\n",
        "\n",
        "# Находим день недели для указанной даты\n",
        "day_of_week = birthdate.strftime(\"%A\").lower()\n",
        "\n",
        "print(day_of_week)"
      ]
    },
    {
      "cell_type": "markdown",
      "metadata": {
        "id": "g5S0h2-wKfGE"
      },
      "source": [
        "## Задание 2"
      ]
    },
    {
      "cell_type": "markdown",
      "metadata": {
        "id": "orX7BUzcPKKf"
      },
      "source": [
        "**Условие:**\n",
        "Методами библиотеки ```datetime``` проверьте правильность указания количества дней президенства 44го президента США, опираясь на даты начала и окончания из [википедии](https://ru.wikipedia.org/wiki/%D0%A1%D0%BF%D0%B8%D1%81%D0%BE%D0%BA_%D0%BF%D1%80%D0%B5%D0%B7%D0%B8%D0%B4%D0%B5%D0%BD%D1%82%D0%BE%D0%B2_%D0%A1%D0%A8%D0%90#%D0%A1%D0%BF%D0%B8%D1%81%D0%BE%D0%BA%20%D0%BF%D1%80%D0%B5%D0%B7%D0%B8%D0%B4%D0%B5%D0%BD%D1%82%D0%BE%D0%B2). Укажите полученное вами значение в ответе.\n",
        "\n",
        "**Формат ответа:**\n",
        "Число (например, ```1231```)\n",
        "\n",
        "**Оценка в баллах:** 3 балла"
      ]
    },
    {
      "cell_type": "markdown",
      "metadata": {
        "id": "ESSLfwqEPKKn"
      },
      "source": [
        "**Решение:**"
      ]
    },
    {
      "cell_type": "code",
      "execution_count": null,
      "metadata": {
        "colab": {
          "base_uri": "https://localhost:8080/"
        },
        "id": "y8HOlaNLPKKq",
        "outputId": "4a78fd00-8be0-4df2-c689-8c5e032bd6c6"
      },
      "outputs": [
        {
          "output_type": "stream",
          "name": "stdout",
          "text": [
            "2922\n"
          ]
        }
      ],
      "source": [
        "import datetime\n",
        "\n",
        "# Дата начала президентства 44го президента США (Обама)\n",
        "start_date = datetime.date(2009, 1, 20)\n",
        "\n",
        "# Дата окончания президентства 44го президента США (Обама)\n",
        "end_date = datetime.date(2017, 1, 20)\n",
        "\n",
        "# Вычисляем количество дней президентства\n",
        "days_in_office = (end_date - start_date).days\n",
        "\n",
        "print(days_in_office)"
      ]
    }
  ],
  "metadata": {
    "colab": {
      "provenance": []
    },
    "kernelspec": {
      "display_name": "Python 3 (ipykernel)",
      "language": "python",
      "name": "python3"
    },
    "language_info": {
      "codemirror_mode": {
        "name": "ipython",
        "version": 3
      },
      "file_extension": ".py",
      "mimetype": "text/x-python",
      "name": "python",
      "nbconvert_exporter": "python",
      "pygments_lexer": "ipython3",
      "version": "3.11.7"
    }
  },
  "nbformat": 4,
  "nbformat_minor": 0
}