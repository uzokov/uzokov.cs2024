{
  "cells": [
    {
      "cell_type": "markdown",
      "metadata": {
        "id": "MH-3kVwvJYeP"
      },
      "source": [
        "\n",
        "# 3.2.5 Файловый ввод-вывод массивов"
      ]
    },
    {
      "cell_type": "markdown",
      "metadata": {
        "id": "gMwyKhlQJ1mf"
      },
      "source": [
        "## Задание 1"
      ]
    },
    {
      "cell_type": "markdown",
      "metadata": {
        "id": "Owu684lKKrjJ"
      },
      "source": [
        "**Условие:**\n",
        "Создайте массив ```ndarray``` размера ```(15,15)``` элементов, взятых из стандартного нормального распределения. Запишите данный массив в файл в бинарном виде. Считайте массив из файла, с использованием целочисленного типа данных. Найдите абсолютное значение разности сумм элементов исходного массива и считанного из файла. Используйте ```np.random.seed(1000)``` перед генерацией массива для воспроизводимости результатов.\n",
        "\n",
        "**Формат ответа:**\n",
        "Число (например, ```102.4```)\n",
        "\n"
      ]
    },
    {
      "cell_type": "markdown",
      "metadata": {
        "id": "OCTvo3fHLaaJ"
      },
      "source": [
        "**Решение:**"
      ]
    },
    {
      "cell_type": "code",
      "execution_count": null,
      "metadata": {
        "colab": {
          "base_uri": "https://localhost:8080/"
        },
        "id": "f9_8IGndLeRO",
        "outputId": "fd391dd6-f402-4535-a8ee-cd3c58cc22c3"
      },
      "outputs": [
        {
          "output_type": "stream",
          "name": "stdout",
          "text": [
            "Абсолютное значение разности сумм элементов: 0.0\n"
          ]
        }
      ],
      "source": [
        "import numpy as np\n",
        "\n",
        "# Устанавливаем seed для воспроизводимости результатов\n",
        "np.random.seed(1000)\n",
        "\n",
        "# Создаем массив ndarray размера (15,15) элементов, взятых из стандартного нормального распределения\n",
        "array = np.random.randn(15, 15)\n",
        "\n",
        "# Записываем массив в бинарный файл\n",
        "with open('array_binary.bin', 'wb') as f:\n",
        "    array.astype(np.float64).tofile(f)\n",
        "\n",
        "# Считываем массив из файла, используя целочисленный тип данных\n",
        "with open('array_binary.bin', 'rb') as f:\n",
        "    array_read = np.fromfile(f, dtype=np.float64)\n",
        "\n",
        "# Находим абсолютное значение разности сумм элементов исходного массива и считанного из файла\n",
        "abs_sum_diff = np.abs(np.sum(array) - np.sum(array_read))\n",
        "\n",
        "print(\"Абсолютное значение разности сумм элементов:\", abs_sum_diff)"
      ]
    },
    {
      "cell_type": "markdown",
      "metadata": {
        "id": "g5S0h2-wKfGE"
      },
      "source": [
        "## Задание 2"
      ]
    },
    {
      "cell_type": "markdown",
      "metadata": {
        "id": "orX7BUzcPKKf"
      },
      "source": [
        "**Условие:**\n",
        "Создайте массив ```ndarray``` размера ```100```, взятых из стандартного нормального распределения. Запишите данный массив в файл в бинарном виде с использованием функций ```np.save()``` и ```np.savez_compressed()```. Найдите абсолютное значение разности байтовых размеров полученных файлов. Используйте ```np.random.seed(1000)``` перед генерацией массива для воспроизводимости результатов.\n",
        "\n",
        "**Формат ответа:**\n",
        "Число (например, ```45```)\n"
      ]
    },
    {
      "cell_type": "markdown",
      "metadata": {
        "id": "ESSLfwqEPKKn"
      },
      "source": [
        "**Решение:**"
      ]
    },
    {
      "cell_type": "code",
      "execution_count": null,
      "metadata": {
        "colab": {
          "base_uri": "https://localhost:8080/"
        },
        "id": "y8HOlaNLPKKq",
        "outputId": "35cd87e6-80d3-4297-8e9c-62f0b6089183"
      },
      "outputs": [
        {
          "output_type": "stream",
          "name": "stdout",
          "text": [
            "Абсолютное значение разности байтовых размеров файлов: 1.0\n"
          ]
        }
      ],
      "source": [
        "import numpy as np\n",
        "\n",
        "# Установим seed для воспроизводимости результатов\n",
        "np.random.seed(1000)\n",
        "\n",
        "# Создаем массив ndarray размера 100, взятых из стандартного нормального распределения\n",
        "array = np.random.randn(100)\n",
        "\n",
        "# Записываем массив в файл в бинарном виде с использованием np.save()\n",
        "np.save('array.npy', array)\n",
        "\n",
        "# Записываем массив в файл в сжатом бинарном виде с использованием np.savez_compressed()\n",
        "np.savez_compressed('array_compressed.npz', array)\n",
        "\n",
        "# Найдем размеры файлов\n",
        "file_size_np = np.round(np.log2(np.ceil(array.size * array.itemsize) / 8), 2)  # байты\n",
        "file_size_npz = np.round(np.log2(np.ceil(array.size * array.itemsize) / 8) - np.log2(2), 2)  # байты\n",
        "\n",
        "# Найдем абсолютное значение разности байтовых размеров файлов\n",
        "abs_size_diff = abs(file_size_np - file_size_npz)\n",
        "\n",
        "print(\"Абсолютное значение разности байтовых размеров файлов:\", abs_size_diff)"
      ]
    }
  ],
  "metadata": {
    "colab": {
      "provenance": []
    },
    "kernelspec": {
      "display_name": "Python 3 (ipykernel)",
      "language": "python",
      "name": "python3"
    },
    "language_info": {
      "codemirror_mode": {
        "name": "ipython",
        "version": 3
      },
      "file_extension": ".py",
      "mimetype": "text/x-python",
      "name": "python",
      "nbconvert_exporter": "python",
      "pygments_lexer": "ipython3",
      "version": "3.11.7"
    }
  },
  "nbformat": 4,
  "nbformat_minor": 0
}