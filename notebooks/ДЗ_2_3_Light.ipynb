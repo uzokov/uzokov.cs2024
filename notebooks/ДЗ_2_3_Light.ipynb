{
  "cells": [
    {
      "cell_type": "markdown",
      "metadata": {
        "id": "MH-3kVwvJYeP"
      },
      "source": [
        "# 2.3 Типы коллекций. Последовательности, множества, отображения"
      ]
    },
    {
      "cell_type": "markdown",
      "metadata": {
        "id": "gMwyKhlQJ1mf"
      },
      "source": [
        "## Задание 1"
      ]
    },
    {
      "cell_type": "markdown",
      "metadata": {
        "id": "Owu684lKKrjJ"
      },
      "source": [
        "**Условие:**\n",
        "Создайте кортеж из ```10```  произвольных значений. Выведите элементы кортежа по целым положительным индексам и по целым отрицательным индексам.\n"
      ]
    },
    {
      "cell_type": "markdown",
      "metadata": {
        "id": "OCTvo3fHLaaJ"
      },
      "source": [
        "**Решение:**"
      ]
    },
    {
      "cell_type": "code",
      "execution_count": null,
      "metadata": {
        "colab": {
          "base_uri": "https://localhost:8080/"
        },
        "id": "f9_8IGndLeRO",
        "outputId": "c3482fdb-1318-4b62-aee5-ea99eb160b46"
      },
      "outputs": [
        {
          "output_type": "stream",
          "name": "stdout",
          "text": [
            "Кортеж: (53, 37, 7, 62, 15, 45, 46, 38, 66, 13)\n",
            "Элементы кортежа по целым положительным индексам:\n",
            "Индекс 0: 53\n",
            "Индекс 1: 37\n",
            "Индекс 2: 7\n",
            "Индекс 3: 62\n",
            "Индекс 4: 15\n",
            "Индекс 5: 45\n",
            "Индекс 6: 46\n",
            "Индекс 7: 38\n",
            "Индекс 8: 66\n",
            "Индекс 9: 13\n",
            "Элементы кортежа по целым отрицательным индексам:\n",
            "Индекс -1: 13\n",
            "Индекс -2: 66\n",
            "Индекс -3: 38\n",
            "Индекс -4: 46\n",
            "Индекс -5: 45\n",
            "Индекс -6: 15\n",
            "Индекс -7: 62\n",
            "Индекс -8: 7\n",
            "Индекс -9: 37\n",
            "Индекс -10: 53\n"
          ]
        }
      ],
      "source": [
        "import random\n",
        "\n",
        "# Создаем кортеж из 10 произвольных значений\n",
        "tuple_values = tuple(random.randint(1, 100) for _ in range(10))\n",
        "print(f\"Кортеж: {tuple_values}\")\n",
        "\n",
        "# Выводим элементы кортежа по целым положительным индексам\n",
        "print(\"Элементы кортежа по целым положительным индексам:\")\n",
        "for i in range(len(tuple_values)):\n",
        "    print(f\"Индекс {i}: {tuple_values[i]}\")\n",
        "\n",
        "# Выводим элементы кортежа по целым отрицательным индексам\n",
        "print(\"Элементы кортежа по целым отрицательным индексам:\")\n",
        "for i in range(-1, -len(tuple_values)-1, -1):\n",
        "    print(f\"Индекс {i}: {tuple_values[i]}\")"
      ]
    },
    {
      "cell_type": "markdown",
      "metadata": {
        "id": "g5S0h2-wKfGE"
      },
      "source": [
        "## Задание 2"
      ]
    },
    {
      "cell_type": "markdown",
      "metadata": {
        "id": "orX7BUzcPKKf"
      },
      "source": [
        "**Условие:**\n",
        "Создайте список из ```10``` последовательных чисел. Прибавьте ```1``` к значениям списка, проходя по нему в цикле."
      ]
    },
    {
      "cell_type": "markdown",
      "metadata": {
        "id": "ESSLfwqEPKKn"
      },
      "source": [
        "**Решение:**"
      ]
    },
    {
      "cell_type": "code",
      "execution_count": null,
      "metadata": {
        "colab": {
          "base_uri": "https://localhost:8080/"
        },
        "id": "y8HOlaNLPKKq",
        "outputId": "47abd0e4-a1ff-4f69-aa39-03db9d83eff6"
      },
      "outputs": [
        {
          "output_type": "stream",
          "name": "stdout",
          "text": [
            "Исходный список: [1, 2, 3, 4, 5, 6, 7, 8, 9, 10]\n",
            "Обновленный список: [2, 3, 4, 5, 6, 7, 8, 9, 10, 11]\n"
          ]
        }
      ],
      "source": [
        "# Создаем список из 10 последовательных чисел\n",
        "list_v = list(range(1, 11))\n",
        "print(f\"Исходный список: {list_v}\")\n",
        "\n",
        "# Прибавляем 1 к каждому значению списка, проходя по нему в цикле\n",
        "for i in range(len(list_v)):\n",
        "    list_v[i] += 1\n",
        "\n",
        "print(f\"Обновленный список: {list_v}\")"
      ]
    },
    {
      "cell_type": "markdown",
      "metadata": {
        "id": "tq0Fcrg1KfXQ"
      },
      "source": [
        "## Задание 3"
      ]
    },
    {
      "cell_type": "markdown",
      "metadata": {
        "id": "3xp-jyyHPMIb"
      },
      "source": [
        "**Условие:**\n",
        "Создайте словарь из ```5``` сотрудников, где ключ - это имя сотрудника, а значение - его заработная плата.\n"
      ]
    },
    {
      "cell_type": "markdown",
      "metadata": {
        "id": "H5ZlBsI2PMIi"
      },
      "source": [
        "**Решение:**"
      ]
    },
    {
      "cell_type": "code",
      "execution_count": null,
      "metadata": {
        "colab": {
          "base_uri": "https://localhost:8080/"
        },
        "id": "6amsYUCoPMIn",
        "outputId": "dc7c9a71-b29d-41fa-edb2-205aaa82ecdd"
      },
      "outputs": [
        {
          "output_type": "stream",
          "name": "stdout",
          "text": [
            "Словарь сотрудников:\n",
            "Имя: Хасан, Заработная плата: 9430000\n",
            "Имя: Достон, Заработная плата: 10777000\n",
            "Имя: Юнус, Заработная плата: 10103000\n",
            "Имя: Денис, Заработная плата: 11450000\n",
            "Имя: Арсен , Заработная плата: 12124000\n"
          ]
        }
      ],
      "source": [
        "# Создаем словарь сотрудников\n",
        "employees = {\n",
        "    \"Хасан\": 9430000,\n",
        "    \"Достон\": 10777000,\n",
        "    \"Юнус\": 10103000,\n",
        "    \"Денис\": 11450000,\n",
        "    \"Арсен \": 12124000\n",
        "}\n",
        "\n",
        "print(\"Словарь сотрудников:\")\n",
        "for name, salary in employees.items():\n",
        "    print(f\"Имя: {name}, Заработная плата: {salary}\")"
      ]
    }
  ],
  "metadata": {
    "colab": {
      "provenance": []
    },
    "kernelspec": {
      "display_name": "Python 3 (ipykernel)",
      "language": "python",
      "name": "python3"
    },
    "language_info": {
      "codemirror_mode": {
        "name": "ipython",
        "version": 3
      },
      "file_extension": ".py",
      "mimetype": "text/x-python",
      "name": "python",
      "nbconvert_exporter": "python",
      "pygments_lexer": "ipython3",
      "version": "3.11.7"
    }
  },
  "nbformat": 4,
  "nbformat_minor": 0
}