{
  "cells": [
    {
      "cell_type": "markdown",
      "metadata": {
        "id": "MH-3kVwvJYeP"
      },
      "source": [
        "\n",
        "# 3.2.4 Математические и статистические операции"
      ]
    },
    {
      "cell_type": "markdown",
      "metadata": {
        "id": "gMwyKhlQJ1mf"
      },
      "source": [
        "## Задание 1"
      ]
    },
    {
      "cell_type": "markdown",
      "metadata": {
        "id": "Owu684lKKrjJ"
      },
      "source": [
        "**Условие:**\n",
        "Создайте случайный целочисленный массив ```ndarray``` размера ```(15,15)``` элементов, принадлежащих отрезку ```[1,10]```. С помощью методов булевых массивов найдите количество элементов в полученном массиве, которые являются полными квадратами. Используйте ```np.random.seed(1000)``` перед генерацией массива для воспроизводимости результатов.\n",
        "\n",
        "**Формат ответа:**\n",
        "Число (например, ```4```)\n"
      ]
    },
    {
      "cell_type": "markdown",
      "metadata": {
        "id": "OCTvo3fHLaaJ"
      },
      "source": [
        "**Решение:**"
      ]
    },
    {
      "cell_type": "code",
      "execution_count": null,
      "metadata": {
        "colab": {
          "base_uri": "https://localhost:8080/"
        },
        "id": "f9_8IGndLeRO",
        "outputId": "39828a1a-bf88-4edc-8a85-203cd7470bc7"
      },
      "outputs": [
        {
          "output_type": "stream",
          "name": "stdout",
          "text": [
            "Количество элементов, которые являются полными квадратами: 70\n"
          ]
        }
      ],
      "source": [
        "import numpy as np\n",
        "\n",
        "# Устанавливаем seed для воспроизводимости результатов\n",
        "np.random.seed(1000)\n",
        "\n",
        "# Создаем случайный целочисленный массив ndarray размера (15,15) элементов, принадлежащих отрезку [1,10]\n",
        "array = np.random.randint(1, 11, size=(15, 15))\n",
        "\n",
        "# Создаем булев массив, где True соответствует элементам, которые являются полными квадратами\n",
        "is_square = np.sqrt(array) % 1 == 0\n",
        "\n",
        "# Находим количество элементов, которые являются полными квадратами\n",
        "num_square_elements = np.sum(is_square)\n",
        "\n",
        "print(\"Количество элементов, которые являются полными квадратами:\", num_square_elements)"
      ]
    },
    {
      "cell_type": "markdown",
      "metadata": {
        "id": "g5S0h2-wKfGE"
      },
      "source": [
        "## Задание 2"
      ]
    },
    {
      "cell_type": "markdown",
      "metadata": {
        "id": "orX7BUzcPKKf"
      },
      "source": [
        "**Условие:**\n",
        "Напишите функцию, которая принимает на вход квадратную матрицу, возводит ее в степень ```100``` и находит ее определитель. Если определитель отличен от нуля, то функция возвращает определитель матрицы, которая является обратной к транспанированной исходной матрице, иначе - ноль. Проверьте работоспособность на матрице, указанной в пункте решение.\n",
        "\n",
        "**Формат ответа:**\n",
        "Число (например, ```2.7```)\n",
        "\n"
      ]
    },
    {
      "cell_type": "markdown",
      "metadata": {
        "id": "ESSLfwqEPKKn"
      },
      "source": [
        "**Решение:**"
      ]
    },
    {
      "cell_type": "code",
      "execution_count": null,
      "metadata": {
        "id": "y8HOlaNLPKKq"
      },
      "outputs": [],
      "source": [
        "_INPUT_MATR_ = np.array([[2,5,7],\n",
        "                        [6,3,4],\n",
        "                        [5,-2,-3]])"
      ]
    },
    {
      "cell_type": "code",
      "source": [
        "import numpy as np\n",
        "\n",
        "def determinant_and_inverse_power(matrix):\n",
        "    # Возводим матрицу в степень 100\n",
        "    powered_matrix = np.linalg.matrix_power(matrix, 100)\n",
        "\n",
        "    # Находим определитель возводенной в степень 100 матрицы\n",
        "    det = np.linalg.det(powered_matrix)\n",
        "\n",
        "    # Если определитель не равен нулю\n",
        "    if det != 0:\n",
        "        # Находим транспонированную матрицу\n",
        "        transposed_matrix = np.transpose(powered_matrix)\n",
        "        # Находим обратную матрицу к транспонированной\n",
        "        inverse_transposed_matrix = np.linalg.inv(transposed_matrix)\n",
        "        # Возвращаем определитель обратной матрицы\n",
        "        return np.linalg.det(inverse_transposed_matrix)\n",
        "    else:\n",
        "        # Если определитель равен нулю, возвращаем ноль\n",
        "        return 0\n",
        "\n",
        "# Пример матрицы, указанный в условии\n",
        "input_matrix = np.array([[2,5,7],\n",
        "                        [6,3,4],\n",
        "                        [5,-2,-3]])\n",
        "\n",
        "# Вызываем функцию для определения работы\n",
        "result = determinant_and_inverse_power(input_matrix)\n",
        "print(\"Результат:\", result)"
      ],
      "metadata": {
        "colab": {
          "base_uri": "https://localhost:8080/"
        },
        "id": "MqSiNNl-CamW",
        "outputId": "9119fa7f-f3bb-432d-9e4c-21afd835af0e"
      },
      "execution_count": null,
      "outputs": [
        {
          "output_type": "stream",
          "name": "stdout",
          "text": [
            "Результат: 5.092753356646088e-57\n"
          ]
        }
      ]
    },
    {
      "cell_type": "markdown",
      "metadata": {
        "id": "tq0Fcrg1KfXQ"
      },
      "source": [
        "## Задание 3"
      ]
    },
    {
      "cell_type": "markdown",
      "metadata": {
        "id": "3xp-jyyHPMIb"
      },
      "source": [
        "**Условие:**\n",
        "Создайте два случайных массива длины ```100```, первый из которых является выборкой из нормального распределения, а второй - равномерного распределения на полуинтервале ```[0,1)```. Найдите абсолютные значения разности средних и среднеквадратических отклонений у полученных массивов.\n",
        "\n",
        "**Формат ответа:**\n",
        "Кортеж чисел (например, ```(2.7, 0.0)```)\n",
        "\n",
        "\n"
      ]
    },
    {
      "cell_type": "markdown",
      "metadata": {
        "id": "H5ZlBsI2PMIi"
      },
      "source": [
        "**Решение:**"
      ]
    },
    {
      "cell_type": "code",
      "execution_count": null,
      "metadata": {
        "colab": {
          "base_uri": "https://localhost:8080/"
        },
        "id": "6amsYUCoPMIn",
        "outputId": "249497eb-cb52-4419-b905-a947e684816e"
      },
      "outputs": [
        {
          "output_type": "stream",
          "name": "stdout",
          "text": [
            "Абсолютная разность средних значений: 0.46587997523261443\n",
            "Абсолютная разность среднеквадратических отклонений: 0.686335223874882\n"
          ]
        }
      ],
      "source": [
        "import numpy as np\n",
        "\n",
        "# Создаем массивы случайных чисел\n",
        "array_normal = np.random.normal(loc=0, scale=1, size=100)\n",
        "array_uniform = np.random.uniform(low=0, high=1, size=100)\n",
        "\n",
        "# Находим среднее и стандартное отклонение для каждого массива\n",
        "mean_normal = np.mean(array_normal)\n",
        "std_normal = np.std(array_normal)\n",
        "\n",
        "mean_uniform = np.mean(array_uniform)\n",
        "std_uniform = np.std(array_uniform)\n",
        "\n",
        "# Находим абсолютные значения разности средних и среднеквадратических отклонений\n",
        "abs_mean_diff = np.abs(mean_normal - mean_uniform)\n",
        "abs_std_diff = np.abs(std_normal - std_uniform)\n",
        "\n",
        "print(\"Абсолютная разность средних значений:\", abs_mean_diff)\n",
        "print(\"Абсолютная разность среднеквадратических отклонений:\", abs_std_diff)"
      ]
    }
  ],
  "metadata": {
    "colab": {
      "provenance": []
    },
    "kernelspec": {
      "display_name": "Python 3 (ipykernel)",
      "language": "python",
      "name": "python3"
    },
    "language_info": {
      "codemirror_mode": {
        "name": "ipython",
        "version": 3
      },
      "file_extension": ".py",
      "mimetype": "text/x-python",
      "name": "python",
      "nbconvert_exporter": "python",
      "pygments_lexer": "ipython3",
      "version": "3.11.7"
    }
  },
  "nbformat": 4,
  "nbformat_minor": 0
}