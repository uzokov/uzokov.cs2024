{
  "cells": [
    {
      "cell_type": "markdown",
      "metadata": {
        "id": "MH-3kVwvJYeP"
      },
      "source": [
        "# 2.4 Управляющие структуры. Условные ветвления и циклы"
      ]
    },
    {
      "cell_type": "markdown",
      "metadata": {
        "id": "gMwyKhlQJ1mf"
      },
      "source": [
        "## Задание 1"
      ]
    },
    {
      "cell_type": "markdown",
      "metadata": {
        "id": "Owu684lKKrjJ"
      },
      "source": [
        "Вычислить приблизительное значение экспоненциальной функции с использованием ряда Тейлора:\n",
        "$$\n",
        "e^x=\\sum_{n=0}^{100} {\\frac {x^n} {n!}}.\n",
        "$$\n",
        "Найдите значение $e^{20}$, округленное до 5 знаков после запятой.\n",
        "\n",
        "**Формат ответа:**\n",
        "Число (например, ```3213156.11234```)"
      ]
    },
    {
      "cell_type": "markdown",
      "metadata": {
        "id": "OCTvo3fHLaaJ"
      },
      "source": [
        "**Решение:**"
      ]
    },
    {
      "cell_type": "code",
      "execution_count": null,
      "metadata": {
        "colab": {
          "base_uri": "https://localhost:8080/"
        },
        "id": "f9_8IGndLeRO",
        "outputId": "14441ad6-e706-466f-d305-39b9f8ba3199"
      },
      "outputs": [
        {
          "output_type": "stream",
          "name": "stdout",
          "text": [
            "Результат: 485165195.40979\n"
          ]
        }
      ],
      "source": [
        "import math\n",
        "\n",
        "def calculate_e_to_the_power(x):\n",
        "    sum = 0.0\n",
        "    for n in range(100):\n",
        "        sum = sum + (x**n) / math.factorial(n)\n",
        "    return sum\n",
        "\n",
        "result = calculate_e_to_the_power(20)\n",
        "print(\"Результат: \" + str(round(result, 5)))"
      ]
    },
    {
      "cell_type": "markdown",
      "metadata": {
        "id": "g5S0h2-wKfGE"
      },
      "source": [
        "## Задание 2"
      ]
    },
    {
      "cell_type": "markdown",
      "metadata": {
        "id": "orX7BUzcPKKf"
      },
      "source": [
        "**Условие:**\n",
        "Найдите среднее арифметическое всех **простых** делителей числа $n$, заданного пользователем. Дайте ответ для $n = 125632$. Требуется сперва получить лист делителей, а потом уже найти среднее арифметическое.\n",
        "\n",
        "**Формат ответа:** Число (например, ```2112.87```)"
      ]
    },
    {
      "cell_type": "markdown",
      "metadata": {
        "id": "ESSLfwqEPKKn"
      },
      "source": [
        "**Решение:**"
      ]
    },
    {
      "cell_type": "code",
      "execution_count": null,
      "metadata": {
        "colab": {
          "base_uri": "https://localhost:8080/"
        },
        "id": "y8HOlaNLPKKq",
        "outputId": "98db0112-0a64-4edc-91bb-db4e69022413"
      },
      "outputs": [
        {
          "output_type": "stream",
          "name": "stdout",
          "text": [
            "Простые делители числа: [2, 2, 2, 2, 2, 2, 13, 151]\n",
            "Среднее арифметическое простых делителей: 22.0\n"
          ]
        }
      ],
      "source": [
        "def prime_factors(n):\n",
        "    i = 2\n",
        "    factors = []\n",
        "    while i * i <= n:\n",
        "        if n % i:\n",
        "            i += 1\n",
        "        else:\n",
        "            n //= i\n",
        "            factors.append(i)\n",
        "    if n > 1:\n",
        "        factors.append(n)\n",
        "    return factors\n",
        "\n",
        "def average(lst):\n",
        "    return sum(lst) / len(lst)\n",
        "\n",
        "n = 125632\n",
        "factors = prime_factors(n)\n",
        "average_factor = average(factors)\n",
        "\n",
        "print(\"Простые делители числа:\", factors)\n",
        "print(\"Среднее арифметическое простых делителей:\", round(average_factor, 2))"
      ]
    },
    {
      "cell_type": "markdown",
      "metadata": {
        "id": "tq0Fcrg1KfXQ"
      },
      "source": [
        "## Задание 3"
      ]
    },
    {
      "cell_type": "markdown",
      "metadata": {
        "id": "3xp-jyyHPMIb"
      },
      "source": [
        "**Условие:** Создайте игру, в которой пользователь должен угадать заранее случайным образом выбранное целое число от 1 до 100. В случае неправильного ответа программа должна делать подсказки вида: это число меньше(больше), чем загаданное.  Используйте модуль ```random``` и цикл ```while```. Не забудьте поставить условие выхода, например, при вводе символа *. Сыграйте с машиной в эту игру 3 раза(в каждой игре до выигрыша) и укажите среднее значение попыток до успешного угадывания.\n",
        "\n",
        "**Формат ответа:** Число (например, ```8```)"
      ]
    },
    {
      "cell_type": "markdown",
      "metadata": {
        "id": "H5ZlBsI2PMIi"
      },
      "source": [
        "**Решение:**"
      ]
    },
    {
      "cell_type": "code",
      "execution_count": null,
      "metadata": {
        "colab": {
          "base_uri": "https://localhost:8080/"
        },
        "id": "6amsYUCoPMIn",
        "outputId": "c3b8b1c4-4da7-4787-b751-bf800560feb2"
      },
      "outputs": [
        {
          "output_type": "stream",
          "name": "stdout",
          "text": [
            "Введите число от 1 до 100 или * для выхода: *\n",
            "Игра окончена.\n",
            "Введите число от 1 до 100 или * для выхода: *\n",
            "Игра окончена.\n",
            "Введите число от 1 до 100 или * для выхода: *\n",
            "Игра окончена.\n",
            "Среднее количество попыток: 0.0\n"
          ]
        }
      ],
      "source": [
        "import random\n",
        "\n",
        "def guess_game():\n",
        "    number_to_guess = random.randint(1, 100)\n",
        "    attempts = 0\n",
        "    while True:\n",
        "        user_input = input(\"Введите число от 1 до 100 или * для выхода: \")\n",
        "        if user_input == '*':\n",
        "            print(\"Игра окончена.\")\n",
        "            return attempts\n",
        "        else:\n",
        "            attempts += 1\n",
        "            user_number = int(user_input)\n",
        "            if user_number == number_to_guess:\n",
        "                print(\"Поздравляем, вы угадали число!\")\n",
        "                break\n",
        "            elif user_number < number_to_guess:\n",
        "                print(\"Загаданное число больше.\")\n",
        "            else:\n",
        "                print(\"Загаданное число меньше.\")\n",
        "    return attempts\n",
        "\n",
        "def play_games(n):\n",
        "    total_attempts = 0\n",
        "    for _ in range(n):\n",
        "        total_attempts += guess_game()\n",
        "    return total_attempts / n\n",
        "\n",
        "print(f\"Среднее количество попыток: {play_games(3)}\")"
      ]
    }
  ],
  "metadata": {
    "colab": {
      "provenance": []
    },
    "kernelspec": {
      "display_name": "Python 3 (ipykernel)",
      "language": "python",
      "name": "python3"
    },
    "language_info": {
      "codemirror_mode": {
        "name": "ipython",
        "version": 3
      },
      "file_extension": ".py",
      "mimetype": "text/x-python",
      "name": "python",
      "nbconvert_exporter": "python",
      "pygments_lexer": "ipython3",
      "version": "3.11.7"
    }
  },
  "nbformat": 4,
  "nbformat_minor": 0
}