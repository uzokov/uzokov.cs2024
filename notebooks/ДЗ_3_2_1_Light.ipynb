{
  "cells": [
    {
      "cell_type": "markdown",
      "metadata": {
        "id": "MH-3kVwvJYeP"
      },
      "source": [
        "\n",
        "# 3.2.1 Быстрые поэлементные операции над массивами"
      ]
    },
    {
      "cell_type": "markdown",
      "metadata": {
        "id": "gMwyKhlQJ1mf"
      },
      "source": [
        "## Задание 1"
      ]
    },
    {
      "cell_type": "markdown",
      "metadata": {
        "id": "Owu684lKKrjJ"
      },
      "source": [
        "**Условие:**\n",
        "Создайте два произвольных целочисленных массива ```ndarray``` длины ```10``` и найдите поэлементную сумму их значений. Среди полученных значений найдите максимальное с использованием функции ```np.max()```.\n",
        "\n",
        "**Формат ответа:**\n",
        "Число (например, ```150```)\n"
      ]
    },
    {
      "cell_type": "markdown",
      "metadata": {
        "id": "OCTvo3fHLaaJ"
      },
      "source": [
        "**Решение:**"
      ]
    },
    {
      "cell_type": "code",
      "execution_count": null,
      "metadata": {
        "colab": {
          "base_uri": "https://localhost:8080/"
        },
        "id": "f9_8IGndLeRO",
        "outputId": "d069cf03-b6b7-4ee5-f0e1-c2a281a6421d"
      },
      "outputs": [
        {
          "output_type": "stream",
          "name": "stdout",
          "text": [
            "Поэлементная сумма массивов: [163  48 128  72 127 154  84 116 135  86]\n",
            "Максимальное значение: 163\n"
          ]
        }
      ],
      "source": [
        "import numpy as np\n",
        "\n",
        "# Создание двух произвольных целочисленных массивов ndarray длины 10\n",
        "array1 = np.random.randint(0, 100, 10)\n",
        "array2 = np.random.randint(0, 100, 10)\n",
        "\n",
        "# Нахождение поэлементной суммы массивов\n",
        "sum_array = array1 + array2\n",
        "\n",
        "# Нахождение максимального значения среди полученных сумм\n",
        "max_value = np.max(sum_array)\n",
        "\n",
        "print(\"Поэлементная сумма массивов:\", sum_array)\n",
        "print(\"Максимальное значение:\", max_value)"
      ]
    },
    {
      "cell_type": "markdown",
      "metadata": {
        "id": "g5S0h2-wKfGE"
      },
      "source": [
        "## Задание 2"
      ]
    },
    {
      "cell_type": "markdown",
      "metadata": {
        "id": "orX7BUzcPKKf"
      },
      "source": [
        "**Условие:**\n",
        "Создайте произвольный массив ```ndarray``` из 10 элементов типа ```float16```. Присутствие ненулевых дробных частей у элементов обязательно. С использованием методов ```numpy``` отделите дробные части элементов и найдите среди них максимальное значение.\n",
        "\n",
        "**Формат ответа:**\n",
        "Число (например, ```0.82```)\n",
        "\n"
      ]
    },
    {
      "cell_type": "markdown",
      "metadata": {
        "id": "ESSLfwqEPKKn"
      },
      "source": [
        "**Решение:**"
      ]
    },
    {
      "cell_type": "code",
      "execution_count": null,
      "metadata": {
        "colab": {
          "base_uri": "https://localhost:8080/"
        },
        "id": "y8HOlaNLPKKq",
        "outputId": "078ab812-917f-419f-ae8d-e91640b29f4e"
      },
      "outputs": [
        {
          "output_type": "stream",
          "name": "stdout",
          "text": [
            "Массив элементов: [1.779 6.727 9.33  3.283 8.586 7.652 9.97  8.516 9.52  0.754]\n",
            "Дробные части элементов: [0.7793 0.7266 0.3281 0.2832 0.586  0.6523 0.9688 0.5156 0.5234 0.754 ]\n",
            "Максимальная дробная часть: 0.9688\n"
          ]
        }
      ],
      "source": [
        "import numpy as np\n",
        "\n",
        "# Создание произвольного массива ndarray из 10 элементов типа float16\n",
        "array = np.random.rand(10).astype(np.float16) * 10\n",
        "\n",
        "# Отделение дробных частей элементов\n",
        "fractional_parts = array - np.floor(array)\n",
        "\n",
        "# Нахождение максимального значения среди дробных частей\n",
        "max_fractional_part = np.max(fractional_parts)\n",
        "\n",
        "print(\"Массив элементов:\", array)\n",
        "print(\"Дробные части элементов:\", fractional_parts)\n",
        "print(\"Максимальная дробная часть:\", max_fractional_part)"
      ]
    },
    {
      "cell_type": "markdown",
      "metadata": {
        "id": "tq0Fcrg1KfXQ"
      },
      "source": [
        "## Задание 3"
      ]
    },
    {
      "cell_type": "markdown",
      "metadata": {
        "id": "3xp-jyyHPMIb"
      },
      "source": [
        "**Условие:**\n",
        "Создайте два произвольных целочисленных массива ```ndarray``` длины ```10``` и найдите количество позиций, в которых значения массивов не совпадают при поэлементном сравнивании.\n",
        "\n",
        "**Формат ответа:**\n",
        "Число (например, ```5```)\n",
        "\n",
        "\n"
      ]
    },
    {
      "cell_type": "markdown",
      "metadata": {
        "id": "H5ZlBsI2PMIi"
      },
      "source": [
        "**Решение:**"
      ]
    },
    {
      "cell_type": "code",
      "execution_count": null,
      "metadata": {
        "colab": {
          "base_uri": "https://localhost:8080/"
        },
        "id": "6amsYUCoPMIn",
        "outputId": "fabbed6e-aba6-4dd8-de18-97a196628aae"
      },
      "outputs": [
        {
          "output_type": "stream",
          "name": "stdout",
          "text": [
            "Массив 1: [89 97  4 61 59 73 78 26 13 45]\n",
            "Массив 2: [72 88 26 92 63  3 64 98 94 93]\n",
            "Количество позиций, в которых значения не совпадают: 10\n"
          ]
        }
      ],
      "source": [
        "import numpy as np\n",
        "\n",
        "# Создание двух произвольных целочисленных массивов ndarray длины 10\n",
        "array1 = np.random.randint(0, 100, 10)\n",
        "array2 = np.random.randint(0, 100, 10)\n",
        "\n",
        "# Поэлементное сравнение массивов\n",
        "unequal_positions = np.count_nonzero(array1 != array2)\n",
        "\n",
        "print(\"Массив 1:\", array1)\n",
        "print(\"Массив 2:\", array2)\n",
        "print(\"Количество позиций, в которых значения не совпадают:\", unequal_positions)"
      ]
    }
  ],
  "metadata": {
    "colab": {
      "provenance": []
    },
    "kernelspec": {
      "display_name": "Python 3 (ipykernel)",
      "language": "python",
      "name": "python3"
    },
    "language_info": {
      "codemirror_mode": {
        "name": "ipython",
        "version": 3
      },
      "file_extension": ".py",
      "mimetype": "text/x-python",
      "name": "python",
      "nbconvert_exporter": "python",
      "pygments_lexer": "ipython3",
      "version": "3.11.7"
    }
  },
  "nbformat": 4,
  "nbformat_minor": 0
}