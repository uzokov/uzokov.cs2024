{
  "cells": [
    {
      "cell_type": "markdown",
      "metadata": {
        "id": "MH-3kVwvJYeP"
      },
      "source": [
        "# 2.9.3 Обработка строк, регулярные выражения"
      ]
    },
    {
      "cell_type": "markdown",
      "metadata": {
        "id": "gMwyKhlQJ1mf"
      },
      "source": [
        "## Задание 1"
      ]
    },
    {
      "cell_type": "markdown",
      "metadata": {
        "id": "Owu684lKKrjJ"
      },
      "source": [
        "**Условие:**\n",
        "Напишите функцию, которая просит пользователя ввести фамилию и имя, а потом возвращает отформатированное личное приветствие: по центру с шириной 70 знаков, обрамленное с обоих сторон символом ```=```. Не претендуя на звание самого красивого вывода, данные требования к стилю можно и нужно поменять.\n",
        "\n"
      ]
    },
    {
      "cell_type": "markdown",
      "metadata": {
        "id": "OCTvo3fHLaaJ"
      },
      "source": [
        "**Решение:**"
      ]
    },
    {
      "cell_type": "code",
      "execution_count": null,
      "metadata": {
        "colab": {
          "base_uri": "https://localhost:8080/"
        },
        "id": "f9_8IGndLeRO",
        "outputId": "9ed58ab6-2535-472d-e3e9-5cd9092a471c"
      },
      "outputs": [
        {
          "output_type": "stream",
          "name": "stdout",
          "text": [
            "Введите вашу фамилию: Узоков\n",
            "Введите ваше имя: Амир\n",
            "======================================================================\n",
            "                         Привет, Амир Узоков!                         \n",
            "======================================================================\n"
          ]
        }
      ],
      "source": [
        "def personal_greeting():\n",
        "    # Запрос на ввод фамилии и имени\n",
        "    last_name = input(\"Введите вашу фамилию: \")\n",
        "    first_name = input(\"Введите ваше имя: \")\n",
        "\n",
        "    # Формируем личное приветствие\n",
        "    greeting = f\"Привет, {first_name} {last_name}!\"\n",
        "\n",
        "    # Формируем строку-рамку\n",
        "    frame = \"=\" * 70\n",
        "\n",
        "    # Вычисляем количество пробелов с обеих сторон от личного приветствия\n",
        "    spaces = (70 - len(greeting)) // 2\n",
        "\n",
        "    # Форматируем личное приветствие с учетом отступов\n",
        "    formatted_greeting = f\"{frame}\\n{' ' * spaces}{greeting}{' ' * spaces}\\n{frame}\"\n",
        "\n",
        "    return formatted_greeting\n",
        "\n",
        "# Вызываем функцию и выводим личное приветствие\n",
        "print(personal_greeting())"
      ]
    },
    {
      "cell_type": "markdown",
      "metadata": {
        "id": "g5S0h2-wKfGE"
      },
      "source": [
        "## Задание 2"
      ]
    },
    {
      "cell_type": "markdown",
      "metadata": {
        "id": "orX7BUzcPKKf"
      },
      "source": [
        "**Условие:**\n",
        "Используя регулярные выражения найдите все числовые значения из текста решения.\n",
        "\n",
        "\n",
        "\n"
      ]
    },
    {
      "cell_type": "markdown",
      "metadata": {
        "id": "ESSLfwqEPKKn"
      },
      "source": [
        "**Решение:**"
      ]
    },
    {
      "cell_type": "code",
      "execution_count": null,
      "metadata": {
        "id": "y8HOlaNLPKKq"
      },
      "outputs": [],
      "source": [
        "text_str = '''Вы пишите код в браузере в ноутбуке, он выполняется на виртуальной машине в облаке Google.\n",
        "Машина выдается вам на 12 часов, после этого она останавливается. Однако ничто не мешает вам запустить еще одну виртуальную машину и работать еще 12 часов.\n",
        "Только имейте в виду, что после остановки виртуальной машины все данные с нее удаляются.\n",
        "Поэтому не забывайте сохранять нужные данные на свой компьютер или Google Drive, а после перезапуска виртуальной машины загружать заново.'''"
      ]
    },
    {
      "cell_type": "code",
      "source": [
        "import re\n",
        "\n",
        "text_str = '''Вы пишите код в браузере в ноутбуке, он выполняется на виртуальной машине в облаке Google.\n",
        "Машина выдается вам на 12 часов, после этого она останавливается. Однако ничто не мешает вам запустить еще одну виртуальную машину и работать еще 12 часов.\n",
        "Только имейте в виду, что после остановки виртуальной машины все данные с нее удаляются.\n",
        "Поэтому не забывайте сохранять нужные данные на свой компьютер или Google Drive, а после перезапуска виртуальной машины загружать заново.'''\n",
        "\n",
        "# Используем регулярное выражение для поиска числовых значений\n",
        "numeric_values = re.findall(r'\\b\\d+\\b', text_str)\n",
        "\n",
        "print(numeric_values)"
      ],
      "metadata": {
        "id": "u9vllxNK5VIq",
        "outputId": "1ac9eab0-6b1a-4119-b544-f683d6d3992b",
        "colab": {
          "base_uri": "https://localhost:8080/"
        }
      },
      "execution_count": null,
      "outputs": [
        {
          "output_type": "stream",
          "name": "stdout",
          "text": [
            "['12', '12']\n"
          ]
        }
      ]
    }
  ],
  "metadata": {
    "colab": {
      "provenance": []
    },
    "kernelspec": {
      "display_name": "Python 3 (ipykernel)",
      "language": "python",
      "name": "python3"
    },
    "language_info": {
      "codemirror_mode": {
        "name": "ipython",
        "version": 3
      },
      "file_extension": ".py",
      "mimetype": "text/x-python",
      "name": "python",
      "nbconvert_exporter": "python",
      "pygments_lexer": "ipython3",
      "version": "3.11.7"
    }
  },
  "nbformat": 4,
  "nbformat_minor": 0
}