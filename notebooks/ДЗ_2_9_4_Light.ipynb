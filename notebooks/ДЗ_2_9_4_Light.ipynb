{
  "cells": [
    {
      "cell_type": "markdown",
      "metadata": {
        "id": "MH-3kVwvJYeP"
      },
      "source": [
        "\n",
        "# 2.9.4 Форматы файлов, кодировки и сохранение данных. Работа с файлами и каталогами"
      ]
    },
    {
      "cell_type": "markdown",
      "metadata": {
        "id": "gMwyKhlQJ1mf"
      },
      "source": [
        "## Задание 1"
      ]
    },
    {
      "cell_type": "markdown",
      "metadata": {
        "id": "Owu684lKKrjJ"
      },
      "source": [
        "**Условие:**\n",
        "Методами модуля ```os``` вывести содержание папки ```sample_data``` из корневой директории Google Colab.\n",
        "\n"
      ]
    },
    {
      "cell_type": "markdown",
      "metadata": {
        "id": "OCTvo3fHLaaJ"
      },
      "source": [
        "**Решение:**"
      ]
    },
    {
      "cell_type": "code",
      "execution_count": null,
      "metadata": {
        "colab": {
          "base_uri": "https://localhost:8080/"
        },
        "id": "f9_8IGndLeRO",
        "outputId": "7e38e179-b9f9-4d12-ef1c-314ddd46a964"
      },
      "outputs": [
        {
          "output_type": "execute_result",
          "data": {
            "text/plain": [
              "['anscombe.json',\n",
              " 'README.md',\n",
              " 'mnist_test.csv',\n",
              " 'california_housing_test.csv',\n",
              " 'mnist_train_small.csv',\n",
              " 'california_housing_train.csv']"
            ]
          },
          "metadata": {},
          "execution_count": 1
        }
      ],
      "source": [
        "import os\n",
        "\n",
        "# Путь к директории sample_data\n",
        "directory = \"/content/sample_data\"\n",
        "\n",
        "# Вывод содержимого директории\n",
        "os.listdir(directory)"
      ]
    },
    {
      "cell_type": "markdown",
      "metadata": {
        "id": "g5S0h2-wKfGE"
      },
      "source": [
        "## Задание 2"
      ]
    },
    {
      "cell_type": "markdown",
      "metadata": {
        "id": "orX7BUzcPKKf"
      },
      "source": [
        "**Условие:**\n",
        "Создайте произвольный словарь из 10 элементов. Сохраните его в файл в формате ```.json```. Считайте данные из полученного файла в новый словарь и пересохраните его в формате ```.pickle```. Из вновь полученного файла считайте данные в новый словарь и сравните его с изначальным словарем.\n",
        "\n"
      ]
    },
    {
      "cell_type": "markdown",
      "metadata": {
        "id": "ESSLfwqEPKKn"
      },
      "source": [
        "**Решение:**"
      ]
    },
    {
      "cell_type": "code",
      "execution_count": null,
      "metadata": {
        "colab": {
          "base_uri": "https://localhost:8080/"
        },
        "id": "y8HOlaNLPKKq",
        "outputId": "8e7dcfc1-b8ac-4866-d97d-35f2f0d0ac41"
      },
      "outputs": [
        {
          "output_type": "stream",
          "name": "stdout",
          "text": [
            "Изначальный словарь:\n",
            "{'key1': 'value1', 'key2': 'value2', 'key3': [1, 2, 3], 'key4': {'nested_key': 'nested_value'}, 'key5': 5, 'key6': 6.7, 'key7': True, 'key8': None, 'key9': ('tuple', 'values'), 'key10': {'inner_dict': {'key': 'value'}}}\n",
            "\n",
            "Словарь, загруженный из JSON:\n",
            "{'key1': 'value1', 'key2': 'value2', 'key3': [1, 2, 3], 'key4': {'nested_key': 'nested_value'}, 'key5': 5, 'key6': 6.7, 'key7': True, 'key8': None, 'key9': ['tuple', 'values'], 'key10': {'inner_dict': {'key': 'value'}}}\n",
            "\n",
            "Словарь, загруженный из pickle:\n",
            "{'key1': 'value1', 'key2': 'value2', 'key3': [1, 2, 3], 'key4': {'nested_key': 'nested_value'}, 'key5': 5, 'key6': 6.7, 'key7': True, 'key8': None, 'key9': ['tuple', 'values'], 'key10': {'inner_dict': {'key': 'value'}}}\n",
            "\n",
            "Сравнение словарей: False\n"
          ]
        }
      ],
      "source": [
        "import json\n",
        "import pickle\n",
        "\n",
        "# Создание произвольного словаря\n",
        "original_dict = {\n",
        "    \"key1\": \"value1\",\n",
        "    \"key2\": \"value2\",\n",
        "    \"key3\": [1, 2, 3],\n",
        "    \"key4\": {\"nested_key\": \"nested_value\"},\n",
        "    \"key5\": 5,\n",
        "    \"key6\": 6.7,\n",
        "    \"key7\": True,\n",
        "    \"key8\": None,\n",
        "    \"key9\": (\"tuple\", \"values\"),\n",
        "    \"key10\": {\"inner_dict\": {\"key\": \"value\"}}\n",
        "}\n",
        "\n",
        "# Сохранение словаря в файл в формате JSON\n",
        "with open(\"data.json\", \"w\") as json_file:\n",
        "    json.dump(original_dict, json_file)\n",
        "\n",
        "# Чтение данных из JSON-файла в новый словарь\n",
        "with open(\"data.json\", \"r\") as json_file:\n",
        "    loaded_dict_json = json.load(json_file)\n",
        "\n",
        "# Сохранение нового словаря в файл в формате pickle\n",
        "with open(\"data.pickle\", \"wb\") as pickle_file:\n",
        "    pickle.dump(loaded_dict_json, pickle_file)\n",
        "\n",
        "# Чтение данных из pickle-файла в новый словарь\n",
        "with open(\"data.pickle\", \"rb\") as pickle_file:\n",
        "    loaded_dict_pickle = pickle.load(pickle_file)\n",
        "\n",
        "# Сравнение полученного словаря с изначальным\n",
        "print(\"Изначальный словарь:\")\n",
        "print(original_dict)\n",
        "print(\"\\nСловарь, загруженный из JSON:\")\n",
        "print(loaded_dict_json)\n",
        "print(\"\\nСловарь, загруженный из pickle:\")\n",
        "print(loaded_dict_pickle)\n",
        "print(\"\\nСравнение словарей:\", original_dict == loaded_dict_pickle)"
      ]
    }
  ],
  "metadata": {
    "colab": {
      "provenance": []
    },
    "kernelspec": {
      "display_name": "Python 3 (ipykernel)",
      "language": "python",
      "name": "python3"
    },
    "language_info": {
      "codemirror_mode": {
        "name": "ipython",
        "version": 3
      },
      "file_extension": ".py",
      "mimetype": "text/x-python",
      "name": "python",
      "nbconvert_exporter": "python",
      "pygments_lexer": "ipython3",
      "version": "3.11.7"
    }
  },
  "nbformat": 4,
  "nbformat_minor": 0
}