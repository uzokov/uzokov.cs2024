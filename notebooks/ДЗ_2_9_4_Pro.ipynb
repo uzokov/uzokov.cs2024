{
  "cells": [
    {
      "cell_type": "markdown",
      "metadata": {
        "id": "MH-3kVwvJYeP"
      },
      "source": [
        "# 2.9.4 Форматы файлов, кодировки и сохранение данных. Работа с файлами и каталогами"
      ]
    },
    {
      "cell_type": "markdown",
      "metadata": {
        "id": "gMwyKhlQJ1mf"
      },
      "source": [
        "## Задание 1"
      ]
    },
    {
      "cell_type": "markdown",
      "metadata": {
        "id": "Owu684lKKrjJ"
      },
      "source": [
        "**Условие:**\n",
        "Напишите собственный класс с несколькими атрибутами данных, создайте его экземпляр и запишите данный экземпляр класса в файл с использованием библиотеки ```pickle```. Считайте экземпляр из файла и проверьте его атрибуты.\n",
        "\n"
      ]
    },
    {
      "cell_type": "markdown",
      "metadata": {
        "id": "OCTvo3fHLaaJ"
      },
      "source": [
        "**Решение:**"
      ]
    },
    {
      "cell_type": "code",
      "execution_count": null,
      "metadata": {
        "colab": {
          "base_uri": "https://localhost:8080/"
        },
        "id": "f9_8IGndLeRO",
        "outputId": "25bd2688-dd64-431c-cc93-958fcb678c69"
      },
      "outputs": [
        {
          "output_type": "stream",
          "name": "stdout",
          "text": [
            "Атрибут 1: value1\n",
            "Атрибут 2: value2\n"
          ]
        }
      ],
      "source": [
        "import pickle\n",
        "\n",
        "# Определение класса\n",
        "class MyClass:\n",
        "    def __init__(self, attribute1, attribute2):\n",
        "        self.attribute1 = attribute1\n",
        "        self.attribute2 = attribute2\n",
        "\n",
        "# Создание экземпляра класса\n",
        "my_instance = MyClass(\"value1\", \"value2\")\n",
        "\n",
        "# Запись экземпляра класса в файл с использованием pickle\n",
        "with open(\"my_instance.pickle\", \"wb\") as pickle_file:\n",
        "    pickle.dump(my_instance, pickle_file)\n",
        "\n",
        "# Чтение экземпляра класса из файла\n",
        "with open(\"my_instance.pickle\", \"rb\") as pickle_file:\n",
        "    loaded_instance = pickle.load(pickle_file)\n",
        "\n",
        "# Проверка атрибутов загруженного экземпляра\n",
        "print(\"Атрибут 1:\", loaded_instance.attribute1)\n",
        "print(\"Атрибут 2:\", loaded_instance.attribute2)"
      ]
    },
    {
      "cell_type": "markdown",
      "metadata": {
        "id": "g5S0h2-wKfGE"
      },
      "source": [
        "## Задание 2"
      ]
    },
    {
      "cell_type": "markdown",
      "metadata": {
        "id": "orX7BUzcPKKf"
      },
      "source": [
        "**Условие:**\n",
        "\n",
        "Методами модуля ```os``` cоставить статистику размера файлов ```*.csv``` папки ```sample_data``` из Google Colab. Составить словарь\n",
        "\n",
        "```\n",
        "size_dict = {'filename.csv':filename_size}\n",
        "```\n",
        "\n",
        "\n",
        "*   ```filename.csv``` - имя файла\n",
        "*   ```filename_size``` - размер файла\n",
        "\n",
        "\n"
      ]
    },
    {
      "cell_type": "markdown",
      "metadata": {
        "id": "ESSLfwqEPKKn"
      },
      "source": [
        "**Решение:**"
      ]
    },
    {
      "cell_type": "code",
      "execution_count": null,
      "metadata": {
        "colab": {
          "base_uri": "https://localhost:8080/"
        },
        "id": "y8HOlaNLPKKq",
        "outputId": "ee6a20f5-7ab6-459d-b15f-15f056ba9462"
      },
      "outputs": [
        {
          "output_type": "stream",
          "name": "stdout",
          "text": [
            "{'mnist_test.csv': 18289443, 'california_housing_test.csv': 301141, 'mnist_train_small.csv': 36523880, 'california_housing_train.csv': 1706430}\n"
          ]
        }
      ],
      "source": [
        "import os\n",
        "\n",
        "# Путь к директории sample_data\n",
        "directory = \"/content/sample_data\"\n",
        "\n",
        "# Получение списка файлов .csv в директории\n",
        "csv_files = [file for file in os.listdir(directory) if file.endswith(\".csv\")]\n",
        "\n",
        "# Создание словаря для хранения статистики размера файлов\n",
        "size_dict = {}\n",
        "\n",
        "# Получение статистики размера файлов .csv\n",
        "for file in csv_files:\n",
        "    file_path = os.path.join(directory, file)\n",
        "    file_size = os.path.getsize(file_path)\n",
        "    size_dict[file] = file_size\n",
        "\n",
        "# Вывод словаря\n",
        "print(size_dict)"
      ]
    }
  ],
  "metadata": {
    "colab": {
      "provenance": []
    },
    "kernelspec": {
      "display_name": "Python 3 (ipykernel)",
      "language": "python",
      "name": "python3"
    },
    "language_info": {
      "codemirror_mode": {
        "name": "ipython",
        "version": 3
      },
      "file_extension": ".py",
      "mimetype": "text/x-python",
      "name": "python",
      "nbconvert_exporter": "python",
      "pygments_lexer": "ipython3",
      "version": "3.11.7"
    }
  },
  "nbformat": 4,
  "nbformat_minor": 0
}