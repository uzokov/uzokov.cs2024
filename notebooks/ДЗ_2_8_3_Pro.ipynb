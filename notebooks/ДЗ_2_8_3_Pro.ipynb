{
  "cells": [
    {
      "cell_type": "markdown",
      "metadata": {
        "id": "MH-3kVwvJYeP"
      },
      "source": [
        "# 2.8.3 Объектно-ориентированное программирование как ключевой элемент языка Python"
      ]
    },
    {
      "cell_type": "markdown",
      "metadata": {
        "id": "WS0TXJkOD_Q6"
      },
      "source": [
        "## Задание 1"
      ]
    },
    {
      "cell_type": "markdown",
      "metadata": {
        "id": "vnaW1OUnD_RA"
      },
      "source": [
        "**Условие:** Для класса ```Department``` из задания к занятию 2.8.2 установите все родительские классы. Установите к каким классам относятся атрибуты данных и методы указанного класса.\n"
      ]
    },
    {
      "cell_type": "markdown",
      "metadata": {
        "id": "fgXudiR7D_RC"
      },
      "source": [
        "**Решение:**"
      ]
    },
    {
      "cell_type": "code",
      "execution_count": null,
      "metadata": {
        "colab": {
          "base_uri": "https://localhost:8080/"
        },
        "id": "d3EG8Yu9D_RF",
        "outputId": "8d8ec12b-537b-4dd4-9a21-91ea19472fc2"
      },
      "outputs": [
        {
          "output_type": "stream",
          "name": "stdout",
          "text": [
            "Родительские классы для Department: (<class 'object'>,)\n",
            "Атрибуты данных: ['xristmas_tree']\n",
            "Методы: []\n"
          ]
        }
      ],
      "source": [
        "import inspect\n",
        "\n",
        "class Department:\n",
        "    def __init__(self, name, chief, person_list):\n",
        "        self.name = name\n",
        "        self.chief = chief\n",
        "        self.person_list = person_list\n",
        "\n",
        "    def xristmas_tree(self):\n",
        "        pass\n",
        "\n",
        "# Получаем все родительские классы для Department\n",
        "parent_classes = Department.__bases__\n",
        "\n",
        "# Получаем информацию об атрибутах и методах класса Department\n",
        "attributes = [attr for attr in dir(Department) if not attr.startswith(\"__\")]\n",
        "methods = [m[0] for m in inspect.getmembers(Department, inspect.ismethod)]\n",
        "\n",
        "print(\"Родительские классы для Department:\", parent_classes)\n",
        "print(\"Атрибуты данных:\", attributes)\n",
        "print(\"Методы:\", methods)"
      ]
    }
  ],
  "metadata": {
    "colab": {
      "provenance": []
    },
    "kernelspec": {
      "display_name": "Python 3 (ipykernel)",
      "language": "python",
      "name": "python3"
    },
    "language_info": {
      "codemirror_mode": {
        "name": "ipython",
        "version": 3
      },
      "file_extension": ".py",
      "mimetype": "text/x-python",
      "name": "python",
      "nbconvert_exporter": "python",
      "pygments_lexer": "ipython3",
      "version": "3.11.7"
    }
  },
  "nbformat": 4,
  "nbformat_minor": 0
}