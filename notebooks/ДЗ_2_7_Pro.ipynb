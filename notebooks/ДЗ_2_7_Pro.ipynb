{
  "cells": [
    {
      "cell_type": "markdown",
      "metadata": {
        "id": "MH-3kVwvJYeP"
      },
      "source": [
        "\n",
        "# 2.7 Обработка исключений"
      ]
    },
    {
      "cell_type": "markdown",
      "metadata": {
        "id": "Mv3Lt4M3KfxS"
      },
      "source": [
        "## Задание 1"
      ]
    },
    {
      "cell_type": "markdown",
      "metadata": {
        "id": "wdbYgJfkPPCb"
      },
      "source": [
        "**Условие:** С помощью конструкции ```try...except...``` реализуйте перехват исключения при вводе пользователем не числового или нулевого значения в функции подсчета обратного значения числа. Выведите предупреждение с описанием ошибки. Какой тип ошибки перехватывается при вводе не числового значения?\n",
        "\n",
        "**Формат ответа:** Строка (например, ```'IndexError'```)"
      ]
    },
    {
      "cell_type": "markdown",
      "metadata": {
        "id": "bIzgjMPtPPCm"
      },
      "source": [
        "**Решение:**"
      ]
    },
    {
      "cell_type": "code",
      "execution_count": null,
      "metadata": {
        "colab": {
          "base_uri": "https://localhost:8080/"
        },
        "id": "L_j90Z-UPPCt",
        "outputId": "75847109-dfda-4d92-9d3d-b5cf9729c952"
      },
      "outputs": [
        {
          "output_type": "stream",
          "name": "stdout",
          "text": [
            "Введите число: 1\n",
            "Обратное значение числа: 1.0\n",
            "Спасибо!\n"
          ]
        }
      ],
      "source": [
        "def reciprocal():\n",
        "    try:\n",
        "        number = float(input(\"Введите число: \"))\n",
        "\n",
        "        # Проверка на ноль\n",
        "        if number == 0:\n",
        "            raise ZeroDivisionError(\"Деление на ноль запрещено!\")\n",
        "\n",
        "        # Вычисление обратного значения числа\n",
        "        reciprocal_value = 1 / number\n",
        "\n",
        "        # Вывод результата\n",
        "        print(\"Обратное значение числа:\", reciprocal_value)\n",
        "\n",
        "    except ValueError:\n",
        "        # Обработка ошибки при вводе не числового значения\n",
        "        print(\"Ошибка: Введено не числовое значение!\")\n",
        "\n",
        "    except ZeroDivisionError as e:\n",
        "        # Обработка ошибки при делении на ноль\n",
        "        print(\"Ошибка:\", e)\n",
        "\n",
        "    finally:\n",
        "        # Благодарность пользователю независимо от результата\n",
        "        print(\"Спасибо!\")\n",
        "\n",
        "# Вызов функции\n",
        "reciprocal()"
      ]
    },
    {
      "cell_type": "markdown",
      "metadata": {
        "id": "_xCYfSFPnlAy"
      },
      "source": [
        "## Задание 2"
      ]
    },
    {
      "cell_type": "markdown",
      "metadata": {
        "id": "GybRlM7onlA3"
      },
      "source": [
        "**Условие:**\n",
        "Напишите функцию безопасного открытия файла, в которой с помощью конструкции ```try...except...``` реализуется перехват исключения при невозможности открытия файла в случае его отсутствия. Какой тип исключения при этом возникает?\n",
        "\n",
        "**Формат ответа:** Строка (например, ```'IndexError'```)"
      ]
    },
    {
      "cell_type": "markdown",
      "metadata": {
        "id": "MX5hE3funlA6"
      },
      "source": [
        "**Решение:**"
      ]
    },
    {
      "cell_type": "code",
      "execution_count": null,
      "metadata": {
        "colab": {
          "base_uri": "https://localhost:8080/"
        },
        "id": "wof6b39wnlA9",
        "outputId": "ef53948c-cb15-4c92-8b20-917b61cae825"
      },
      "outputs": [
        {
          "output_type": "stream",
          "name": "stdout",
          "text": [
            "Введите имя файла: eto je betmen\n",
            "Файл успешно открыт.\n"
          ]
        }
      ],
      "source": [
        "def safe_open_file(filename):\n",
        "    try:\n",
        "        # Попытка открыть файл для чтения\n",
        "        with open(filename, 'r') as file:\n",
        "            print(\"Файл успешно открыт.\")\n",
        "            # Дополнительные действия с файлом могут быть добавлены здесь\n",
        "    except FileNotFoundError:\n",
        "        # Обработка ошибки при отсутствии файла\n",
        "        print(\"Ошибка: Файл '{}' не найден.\".format(filename))\n",
        "    except Exception as e:\n",
        "        # Обработка других исключений, если они возникнут\n",
        "        print(\"Произошла ошибка:\", e)\n",
        "\n",
        "# Вызов функции с передачей имени файла в качестве аргумента\n",
        "filename = input(\"Введите имя файла: \")\n",
        "safe_open_file(filename)"
      ]
    }
  ],
  "metadata": {
    "colab": {
      "provenance": []
    },
    "kernelspec": {
      "display_name": "Python 3 (ipykernel)",
      "language": "python",
      "name": "python3"
    },
    "language_info": {
      "codemirror_mode": {
        "name": "ipython",
        "version": 3
      },
      "file_extension": ".py",
      "mimetype": "text/x-python",
      "name": "python",
      "nbconvert_exporter": "python",
      "pygments_lexer": "ipython3",
      "version": "3.11.7"
    }
  },
  "nbformat": 4,
  "nbformat_minor": 0
}