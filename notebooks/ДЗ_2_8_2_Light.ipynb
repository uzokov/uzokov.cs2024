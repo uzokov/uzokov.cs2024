{
  "cells": [
    {
      "cell_type": "markdown",
      "metadata": {
        "id": "MH-3kVwvJYeP"
      },
      "source": [
        "# 2.8.2 Создание собственных классов"
      ]
    },
    {
      "cell_type": "markdown",
      "metadata": {
        "id": "gMwyKhlQJ1mf"
      },
      "source": [
        "## Задание 1"
      ]
    },
    {
      "cell_type": "markdown",
      "metadata": {
        "id": "Owu684lKKrjJ"
      },
      "source": [
        "**Условие:** Создайте собственный класс ```Person``` работника компании. Добавьте следующие атрибуты данных, использую конструктор ```__init__```:\n",
        "\n",
        "*   ```name```(фамилия)\n",
        "*   ```job```(должность)\n",
        "*   ```pai```(зарплата)\n",
        "\n",
        "Создайте метод класса ```person_raise(self, prcnt)```, который повышает зарплату на ```prcnt``` процентов от имеющегося значения. Создайте работника и выведите кортеж с 2мя значениями: (зарплата при создании работника, зарплата после повышения на 20%)\n",
        "\n",
        "**Формат ответа:** кортеж (например, ```(150, 200)```)"
      ]
    },
    {
      "cell_type": "markdown",
      "metadata": {
        "id": "GcYGnzMAt__J"
      },
      "source": [
        "**Решение:**"
      ]
    },
    {
      "cell_type": "code",
      "execution_count": null,
      "metadata": {
        "colab": {
          "base_uri": "https://localhost:8080/"
        },
        "id": "Cobjm45Dt__K",
        "outputId": "7ad17230-c011-4f3a-f71b-4d08b6522cc1"
      },
      "outputs": [
        {
          "output_type": "stream",
          "name": "stdout",
          "text": [
            "(666, 799.1999999999999)\n"
          ]
        }
      ],
      "source": [
        "class Person:\n",
        "    def __init__(self, name, job, pay, currency):\n",
        "        self.name = name\n",
        "        self.job = job\n",
        "        self.pay = pay\n",
        "        self.currency = currency\n",
        "\n",
        "    def person_raise(self, prcnt):\n",
        "        self.pay *= (1 + prcnt / 100)\n",
        "\n",
        "# Создаем работника\n",
        "employee = Person(\"Алукард\", \"Охотник на вампиров\", 666, \"USD\")\n",
        "\n",
        "# Получаем текущую зарплату работника\n",
        "initial_salary = employee.pay\n",
        "\n",
        "# Повышаем зарплату на 20%\n",
        "employee.person_raise(20)\n",
        "\n",
        "# Получаем зарплату после повышения\n",
        "raised_salary = employee.pay\n",
        "\n",
        "# Выводим кортеж с зарплатой до и после повышения\n",
        "result_tuple = (initial_salary, raised_salary)\n",
        "print(result_tuple)"
      ]
    },
    {
      "cell_type": "markdown",
      "metadata": {
        "id": "g5S0h2-wKfGE"
      },
      "source": [
        "## Задание 2"
      ]
    },
    {
      "cell_type": "markdown",
      "metadata": {
        "id": "orX7BUzcPKKf"
      },
      "source": [
        "**Условие:** Создайте класс ```Manager``` наследника класса ```Person```, который имеет дополнительный атрибут данных ```client_counts```(количество клиентов). В классе ```Manager``` создайте метод ```manager_raise()```, который\n",
        "увеличивает количество клиентов менеджера на 1 и зарплату менеджера на 1%. Выведите кортеж с 2мя значениями: (зарплата менеджера при создании, зарплата после добавления 10 клиентов). Замечание: зарплата менеджера должна быть повышена с использованием методов наследуемого класса.\n",
        "\n",
        "**Формат ответа:** кортеж (например, ```(150, 170)```)\n"
      ]
    },
    {
      "cell_type": "markdown",
      "metadata": {
        "id": "ESSLfwqEPKKn"
      },
      "source": [
        "**Решение:**"
      ]
    },
    {
      "cell_type": "code",
      "execution_count": null,
      "metadata": {
        "colab": {
          "base_uri": "https://localhost:8080/"
        },
        "id": "y8HOlaNLPKKq",
        "outputId": "e3900666-aaee-4809-da4a-39d7c863aec4"
      },
      "outputs": [
        {
          "output_type": "stream",
          "name": "stdout",
          "text": [
            "(333, 367.83916776193104)\n"
          ]
        }
      ],
      "source": [
        "class Manager(Person):\n",
        "    def __init__(self, name, job, pay, currency, client_counts):\n",
        "        super().__init__(name, job, pay, currency)\n",
        "        self.client_counts = client_counts\n",
        "\n",
        "    def manager_raise(self):\n",
        "        self.client_counts += 1\n",
        "        self.person_raise(1)  # Используем метод person_raise из родительского класса для повышения зарплаты\n",
        "\n",
        "# Создаем менеджера\n",
        "manager = Manager(\"Виктория Серас\", \"Помощница Алукарда\", 333, \"USD\", 5)\n",
        "\n",
        "# Получаем текущую зарплату менеджера\n",
        "initial_salary = manager.pay\n",
        "\n",
        "# Повышаем зарплату менеджера и увеличиваем количество клиентов\n",
        "for _ in range(10):\n",
        "    manager.manager_raise()\n",
        "\n",
        "# Получаем зарплату после добавления 10 клиентов\n",
        "raised_salary = manager.pay\n",
        "\n",
        "# Выводим кортеж с зарплатой до и после добавления 10 клиентов\n",
        "result_tuple = (initial_salary, raised_salary)\n",
        "print(result_tuple)"
      ]
    }
  ],
  "metadata": {
    "colab": {
      "provenance": []
    },
    "kernelspec": {
      "display_name": "Python 3 (ipykernel)",
      "language": "python",
      "name": "python3"
    },
    "language_info": {
      "codemirror_mode": {
        "name": "ipython",
        "version": 3
      },
      "file_extension": ".py",
      "mimetype": "text/x-python",
      "name": "python",
      "nbconvert_exporter": "python",
      "pygments_lexer": "ipython3",
      "version": "3.11.7"
    }
  },
  "nbformat": 4,
  "nbformat_minor": 0
}