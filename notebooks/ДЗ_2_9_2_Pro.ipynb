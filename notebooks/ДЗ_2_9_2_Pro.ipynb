{
  "cells": [
    {
      "cell_type": "markdown",
      "metadata": {
        "id": "MH-3kVwvJYeP"
      },
      "source": [
        "# 2.9.2 Работа с аргументами командной строки, время и дата"
      ]
    },
    {
      "cell_type": "markdown",
      "metadata": {
        "id": "gMwyKhlQJ1mf"
      },
      "source": [
        "## Задание 1"
      ]
    },
    {
      "cell_type": "markdown",
      "metadata": {
        "id": "Owu684lKKrjJ"
      },
      "source": [
        "**Условие:**\n",
        "Методами библиотеки ```datetime``` найти количество високосных годов с начала Unix эпохи и по настоящий момент.\n",
        "\n",
        "**Формат ответа:**\n",
        "Число (например, ```2```)\n"
      ]
    },
    {
      "cell_type": "markdown",
      "metadata": {
        "id": "OCTvo3fHLaaJ"
      },
      "source": [
        "**Решение:**"
      ]
    },
    {
      "cell_type": "code",
      "execution_count": null,
      "metadata": {
        "colab": {
          "base_uri": "https://localhost:8080/"
        },
        "id": "f9_8IGndLeRO",
        "outputId": "ec7a3e92-e420-472c-895a-0f6a9f36db85"
      },
      "outputs": [
        {
          "output_type": "stream",
          "name": "stdout",
          "text": [
            "14\n"
          ]
        }
      ],
      "source": [
        "import datetime\n",
        "\n",
        "# Определяем начальную дату Unix эпохи\n",
        "start_date = datetime.datetime(1970, 1, 1)\n",
        "\n",
        "# Определяем текущую дату и время\n",
        "current_date = datetime.datetime.now()\n",
        "\n",
        "# Считаем количество високосных годов с начала Unix эпохи до текущей даты\n",
        "leap_years_count = sum(1 for year in range(start_date.year, current_date.year + 1) if year % 4 == 0 and (year % 100 != 0 or year % 400 == 0))\n",
        "\n",
        "print(leap_years_count)"
      ]
    },
    {
      "cell_type": "markdown",
      "metadata": {
        "id": "g5S0h2-wKfGE"
      },
      "source": [
        "## Задание 2"
      ]
    },
    {
      "cell_type": "markdown",
      "metadata": {
        "id": "orX7BUzcPKKf"
      },
      "source": [
        "**Условие:**\n",
        "Методами библиотеки ```datetime``` найдите название дня недели, в который вы родились. Посчитайте также количество секунд, которые вы провели на этой планете до ```01.01.2020```.\n",
        "\n",
        "**Формат ответа:** кортеж (например, ```('monday',123213875)```)\n"
      ]
    },
    {
      "cell_type": "markdown",
      "metadata": {
        "id": "ESSLfwqEPKKn"
      },
      "source": [
        "**Решение:**"
      ]
    },
    {
      "cell_type": "code",
      "execution_count": null,
      "metadata": {
        "colab": {
          "base_uri": "https://localhost:8080/"
        },
        "id": "y8HOlaNLPKKq",
        "outputId": "fdfd2ca6-864a-4810-d118-6bbcf3152c0d"
      },
      "outputs": [
        {
          "output_type": "stream",
          "name": "stdout",
          "text": [
            "('wednesday', 481420800)\n"
          ]
        }
      ],
      "source": [
        "import datetime\n",
        "\n",
        "# Дата рождения\n",
        "birthdate = datetime.date(2004, 9, 29)\n",
        "\n",
        "# Название дня недели рождения\n",
        "day_of_week = birthdate.strftime(\"%A\").lower()\n",
        "\n",
        "# Текущая дата\n",
        "current_date = datetime.date(2020, 1, 1)\n",
        "\n",
        "# Количество секунд с дня рождения до 01.01.2020\n",
        "seconds_since_birth = (current_date - birthdate).total_seconds()\n",
        "\n",
        "print((day_of_week, int(seconds_since_birth)))"
      ]
    }
  ],
  "metadata": {
    "colab": {
      "provenance": []
    },
    "kernelspec": {
      "display_name": "Python 3 (ipykernel)",
      "language": "python",
      "name": "python3"
    },
    "language_info": {
      "codemirror_mode": {
        "name": "ipython",
        "version": 3
      },
      "file_extension": ".py",
      "mimetype": "text/x-python",
      "name": "python",
      "nbconvert_exporter": "python",
      "pygments_lexer": "ipython3",
      "version": "3.11.7"
    }
  },
  "nbformat": 4,
  "nbformat_minor": 0
}