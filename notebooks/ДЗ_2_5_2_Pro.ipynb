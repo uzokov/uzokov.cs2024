{
  "cells": [
    {
      "cell_type": "markdown",
      "metadata": {
        "id": "MH-3kVwvJYeP"
      },
      "source": [
        "# 2.5.2 Лямбда-функции и функции генераторы"
      ]
    },
    {
      "cell_type": "markdown",
      "metadata": {
        "id": "g5S0h2-wKfGE"
      },
      "source": [
        "## Задание 1"
      ]
    },
    {
      "cell_type": "markdown",
      "metadata": {
        "id": "orX7BUzcPKKf"
      },
      "source": [
        "**Условие:**\n",
        "Создайте лямбда-функцию, проверяющую условие делимости целого числа на ```7```. Примените ее ко всем элементам листа ```[1,2,3, ..., 1000]```. Найдите сумму полученных элементов.\n",
        "\n",
        "**Формат ответа:** Число (например, ```211```)"
      ]
    },
    {
      "cell_type": "markdown",
      "metadata": {
        "id": "ESSLfwqEPKKn"
      },
      "source": [
        "**Решение:**"
      ]
    },
    {
      "cell_type": "code",
      "execution_count": null,
      "metadata": {
        "id": "y8HOlaNLPKKq"
      },
      "outputs": [],
      "source": [
        "# Создаем лямбда-функцию для проверки делимости на 7\n",
        "divisible_by_seven = lambda x: x if x % 7 == 0 else 0\n",
        "\n",
        "# Создаем список от 1 до 1000\n",
        "numbers = list(range(1, 1001))\n",
        "\n",
        "# Применяем функцию ко всем элементам списка и находим сумму\n",
        "sum_of_divisible = sum(divisible_by_seven(n) for n in numbers)\n",
        "\n",
        "print(sum_of_divisible)\n"
      ]
    },
    {
      "cell_type": "markdown",
      "metadata": {
        "id": "selGfp_KaY3W"
      },
      "source": [
        "## Задание 2"
      ]
    },
    {
      "cell_type": "markdown",
      "metadata": {
        "id": "B8fL9n7zaY3g"
      },
      "source": [
        "**Условие:**\n",
        "Создайте лямбда-функцию, которая может получить на вход любое количество чисел и выдать их среднее арифметическое. Примените данную функцию на набору значений, указанных в решении.\n",
        "\n",
        "**Формат ответа:** Число (например,  ```15.2```)\n"
      ]
    },
    {
      "cell_type": "markdown",
      "metadata": {
        "id": "fIDZErU3aY3l"
      },
      "source": [
        "**Решение:**"
      ]
    },
    {
      "cell_type": "code",
      "execution_count": null,
      "metadata": {
        "id": "cqlVLcn-aY3p"
      },
      "outputs": [],
      "source": [
        "target_list = [1,2,3,4,5,6,7,8,9,10]"
      ]
    },
    {
      "cell_type": "code",
      "source": [
        "# Создаем лямбда-функцию для вычисления среднего арифметического\n",
        "average = lambda *args: sum(args) / len(args)\n",
        "\n",
        "# Задаем список значений\n",
        "target_list = [1,2,3,4,5,6,7,8,9,10]\n",
        "\n",
        "# Применяем функцию к элементам списка\n",
        "average_value = average(*target_list)\n",
        "\n",
        "print(average_value)"
      ],
      "metadata": {
        "colab": {
          "base_uri": "https://localhost:8080/"
        },
        "id": "2mcMj4B3nk9R",
        "outputId": "8d7c84b4-b441-4310-9a6b-d4b576bd095e"
      },
      "execution_count": null,
      "outputs": [
        {
          "output_type": "stream",
          "name": "stdout",
          "text": [
            "5.5\n"
          ]
        }
      ]
    }
  ],
  "metadata": {
    "colab": {
      "provenance": []
    },
    "kernelspec": {
      "display_name": "Python 3 (ipykernel)",
      "language": "python",
      "name": "python3"
    },
    "language_info": {
      "codemirror_mode": {
        "name": "ipython",
        "version": 3
      },
      "file_extension": ".py",
      "mimetype": "text/x-python",
      "name": "python",
      "nbconvert_exporter": "python",
      "pygments_lexer": "ipython3",
      "version": "3.11.7"
    }
  },
  "nbformat": 4,
  "nbformat_minor": 0
}