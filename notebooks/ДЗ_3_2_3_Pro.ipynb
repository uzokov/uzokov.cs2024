{
  "cells": [
    {
      "cell_type": "markdown",
      "metadata": {
        "id": "MH-3kVwvJYeP"
      },
      "source": [
        "\n",
        "# 3.2.3 Уход от циклов: обработка данных с применением массивов"
      ]
    },
    {
      "cell_type": "markdown",
      "metadata": {
        "id": "gMwyKhlQJ1mf"
      },
      "source": [
        "## Задание 1"
      ]
    },
    {
      "cell_type": "markdown",
      "metadata": {
        "id": "Owu684lKKrjJ"
      },
      "source": [
        "**Условие:**\n",
        "Создайте ```3``` случайных целочисленных массива ```ndarray``` размера ```(10,10)``` элементов, принадлежащих отрезку ```[0,10]```. Сделайте из данных массивов один трехмерный массив. Вычтите поэлементно первую матрицу из полученного трехмерного массива методом укладывания. Найдите наибольший элемент в полученном массиве. Используйте ```np.random.seed(1000)``` перед генерацией массива для воспроизводимости результатов.\n",
        "\n",
        "**Формат ответа:**\n",
        "Число (например, ```4```)\n",
        "\n"
      ]
    },
    {
      "cell_type": "markdown",
      "metadata": {
        "id": "OCTvo3fHLaaJ"
      },
      "source": [
        "**Решение:**"
      ]
    },
    {
      "cell_type": "code",
      "execution_count": null,
      "metadata": {
        "colab": {
          "base_uri": "https://localhost:8080/"
        },
        "id": "f9_8IGndLeRO",
        "outputId": "c85d92c5-bce1-4d3a-b177-14dafda53eec"
      },
      "outputs": [
        {
          "output_type": "stream",
          "name": "stdout",
          "text": [
            "Наибольший элемент в полученном массиве: 10\n"
          ]
        }
      ],
      "source": [
        "import numpy as np\n",
        "\n",
        "# Установим seed для воспроизводимости результатов\n",
        "np.random.seed(1000)\n",
        "\n",
        "# Создаем 3 случайных целочисленных массива размером (10,10) элементов, принадлежащих отрезку [0,10]\n",
        "array1 = np.random.randint(0, 11, size=(10, 10))\n",
        "array2 = np.random.randint(0, 11, size=(10, 10))\n",
        "array3 = np.random.randint(0, 11, size=(10, 10))\n",
        "\n",
        "# Создаем трехмерный массив из данных массивов\n",
        "three_dim_array = np.array([array1, array2, array3])\n",
        "\n",
        "# Вычитаем поэлементно первую матрицу из полученного трехмерного массива\n",
        "result_array = three_dim_array - array1.reshape((1, 10, 10))\n",
        "\n",
        "# Находим наибольший элемент в полученном массиве\n",
        "max_element = np.max(result_array)\n",
        "\n",
        "print(\"Наибольший элемент в полученном массиве:\", max_element)"
      ]
    },
    {
      "cell_type": "markdown",
      "metadata": {
        "id": "g5S0h2-wKfGE"
      },
      "source": [
        "## Задание 2"
      ]
    },
    {
      "cell_type": "markdown",
      "metadata": {
        "id": "orX7BUzcPKKf"
      },
      "source": [
        "**Условие:**\n",
        "Создайте случайный целочисленный массив ```ndarray``` размера ```(10,10)``` элементов, принадлежащих отрезку ```[0,10]```. С помощью методов ```np.mean()``` и ```np.std()``` центрируйте и нормируйте элементы в столбцах. Найдите разброс полученных значений в полученной матрице. Используйте ```np.random.seed(1000)``` перед генерацией массива для воспроизводимости результатов.\n",
        "\n",
        "**Формат ответа:**\n",
        "Кортеж чисел (например, ```(-0.45,0.89)```)\n",
        "\n"
      ]
    },
    {
      "cell_type": "markdown",
      "metadata": {
        "id": "ESSLfwqEPKKn"
      },
      "source": [
        "**Решение:**"
      ]
    },
    {
      "cell_type": "code",
      "execution_count": null,
      "metadata": {
        "colab": {
          "base_uri": "https://localhost:8080/"
        },
        "id": "y8HOlaNLPKKq",
        "outputId": "29ad28ff-b8b5-4e93-b3d3-f3826d219059"
      },
      "outputs": [
        {
          "output_type": "stream",
          "name": "stdout",
          "text": [
            "Разброс полученных значений в полученной матрице: 0.9999999999999999\n"
          ]
        }
      ],
      "source": [
        "import numpy as np\n",
        "\n",
        "# Установим seed для воспроизводимости результатов\n",
        "np.random.seed(1000)\n",
        "\n",
        "# Создаем случайный целочисленный массив ndarray размера (10,10) элементов, принадлежащих отрезку [0,10]\n",
        "array = np.random.randint(0, 11, size=(10, 10))\n",
        "\n",
        "# Центрируем элементы в столбцах\n",
        "centered_array = array - np.mean(array, axis=0)\n",
        "\n",
        "# Нормируем элементы в столбцах\n",
        "normalized_array = centered_array / np.std(centered_array, axis=0)\n",
        "\n",
        "# Найдем разброс полученных значений в полученной матрице\n",
        "variance = np.var(normalized_array)\n",
        "\n",
        "print(\"Разброс полученных значений в полученной матрице:\", variance)"
      ]
    }
  ],
  "metadata": {
    "colab": {
      "provenance": []
    },
    "kernelspec": {
      "display_name": "Python 3 (ipykernel)",
      "language": "python",
      "name": "python3"
    },
    "language_info": {
      "codemirror_mode": {
        "name": "ipython",
        "version": 3
      },
      "file_extension": ".py",
      "mimetype": "text/x-python",
      "name": "python",
      "nbconvert_exporter": "python",
      "pygments_lexer": "ipython3",
      "version": "3.11.7"
    }
  },
  "nbformat": 4,
  "nbformat_minor": 0
}