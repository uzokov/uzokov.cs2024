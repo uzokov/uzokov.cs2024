{
  "cells": [
    {
      "cell_type": "markdown",
      "metadata": {
        "id": "MH-3kVwvJYeP"
      },
      "source": [
        "# 2.5.2 Лямбда-функции и функции генераторы"
      ]
    },
    {
      "cell_type": "markdown",
      "metadata": {
        "id": "g5S0h2-wKfGE"
      },
      "source": [
        "## Задание 1"
      ]
    },
    {
      "cell_type": "markdown",
      "metadata": {
        "id": "orX7BUzcPKKf"
      },
      "source": [
        "**Условие:**\n",
        "Создайте лямбда-функцию, которая находит обратное к числу значение (например, для числа ```2``` обратным является ```1/2```). Примените ее ко всем элементам листа ```[1,2,3, ..., 1000]```. Найдите сумму полученных обратных значений.\n",
        "\n",
        "**Формат ответа:** Число (например, ```21.2```)"
      ]
    },
    {
      "cell_type": "markdown",
      "metadata": {
        "id": "ESSLfwqEPKKn"
      },
      "source": [
        "**Решение:**"
      ]
    },
    {
      "cell_type": "code",
      "execution_count": null,
      "metadata": {
        "colab": {
          "base_uri": "https://localhost:8080/"
        },
        "id": "y8HOlaNLPKKq",
        "outputId": "a01db6ec-8021-450d-e515-0e8f6917aa64"
      },
      "outputs": [
        {
          "output_type": "stream",
          "name": "stdout",
          "text": [
            "7.485470860550343\n"
          ]
        }
      ],
      "source": [
        "# Создаем лямбда-функцию для нахождения обратного значения\n",
        "inverse = lambda x: 1/x\n",
        "\n",
        "# Создаем список от 1 до 1000\n",
        "numbers = list(range(1, 1001))\n",
        "\n",
        "# Применяем функцию ко всем элементам списка и находим сумму\n",
        "sum_of_inverses = sum(inverse(n) for n in numbers)\n",
        "\n",
        "print(sum_of_inverses)"
      ]
    }
  ],
  "metadata": {
    "colab": {
      "provenance": []
    },
    "kernelspec": {
      "display_name": "Python 3 (ipykernel)",
      "language": "python",
      "name": "python3"
    },
    "language_info": {
      "codemirror_mode": {
        "name": "ipython",
        "version": 3
      },
      "file_extension": ".py",
      "mimetype": "text/x-python",
      "name": "python",
      "nbconvert_exporter": "python",
      "pygments_lexer": "ipython3",
      "version": "3.11.7"
    }
  },
  "nbformat": 4,
  "nbformat_minor": 0
}