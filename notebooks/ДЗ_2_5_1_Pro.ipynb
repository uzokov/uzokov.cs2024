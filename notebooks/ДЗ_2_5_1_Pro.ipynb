{
  "cells": [
    {
      "cell_type": "markdown",
      "metadata": {
        "id": "MH-3kVwvJYeP"
      },
      "source": [
        "# 2.5.1 Основы написания функций"
      ]
    },
    {
      "cell_type": "markdown",
      "metadata": {
        "id": "gMwyKhlQJ1mf"
      },
      "source": [
        "## Задание 1"
      ]
    },
    {
      "cell_type": "markdown",
      "metadata": {
        "id": "Owu684lKKrjJ"
      },
      "source": [
        "**Условие:**\n",
        "Напишите функцию ```multi_mean()```, которая может принимать на вход любое количество чисел и возвращает кортеж различных средних значений (среднее арифметическое, среднее геометрическое, среднее гармоническое). В ответе укажите результат работы функции для ```multi_mean(1.74, 2, 18, 24)```.\n",
        "\n",
        "**Формат ответа:**\n",
        "Кортеж чисел (например, ```(25.4, 8.2, 3.5)```)"
      ]
    },
    {
      "cell_type": "markdown",
      "metadata": {
        "id": "OCTvo3fHLaaJ"
      },
      "source": [
        "**Решение:**"
      ]
    },
    {
      "cell_type": "code",
      "execution_count": null,
      "metadata": {
        "id": "f9_8IGndLeRO"
      },
      "outputs": [],
      "source": [
        "from math import sqrt\n",
        "\n",
        "def multi_mean(*args):\n",
        "\n",
        "  if not args:\n",
        "    raise ValueError(\"Необходимо передать хотя бы одно число\")\n",
        "\n",
        "  n = len(args)\n",
        "  sum_nums = sum(args)\n",
        "  product_nums = 1\n",
        "  harmonic_sum = 0\n",
        "\n",
        "  for num in args:\n",
        "    if not isinstance(num, (int, float)):\n",
        "      raise TypeError(\"Все аргументы должны быть числами\")\n",
        "    product_nums *= num\n",
        "    harmonic_sum += 1 / num\n",
        "\n",
        "  return (sum_nums / n, sqrt(product_nums), n / harmonic_sum)\n",
        "\n",
        "result = multi_mean(1.74, 2, 18, 24)\n",
        "\n",
        "print(result)"
      ]
    },
    {
      "cell_type": "markdown",
      "metadata": {
        "id": "po9IAGLrN40v"
      },
      "source": [
        "## Задание 2"
      ]
    },
    {
      "cell_type": "markdown",
      "metadata": {
        "id": "d1a0uN6YN41B"
      },
      "source": [
        "**Условие:**\n",
        "Напишите функцию, которая принимает на вход в виде именованных переменных длины сторон параллелепипеда и возвращает кортеж значений (площадь параллелепипеда, объем параллелепипеда). Напишите строку документации для данной функции. В ответе укажите результат работы функции для длин сторон ```2,12,6```.\n",
        "\n",
        "**Формат ответа:**\n",
        "Кортеж чисел (например, ```(25.4, 8.2)```)"
      ]
    },
    {
      "cell_type": "markdown",
      "metadata": {
        "id": "iWPZadMmN41H"
      },
      "source": [
        "**Решение:**"
      ]
    },
    {
      "cell_type": "code",
      "execution_count": null,
      "metadata": {
        "colab": {
          "base_uri": "https://localhost:8080/"
        },
        "id": "woFKze5xN41M",
        "outputId": "f0f41caa-cc01-4f6f-8d07-3c2d9ef3c6d2"
      },
      "outputs": [
        {
          "output_type": "stream",
          "name": "stdout",
          "text": [
            "(216, 144)\n"
          ]
        }
      ],
      "source": [
        "def calc_parallelepiped(a, b, c):\n",
        "\n",
        "  if not isinstance(a, (int, float)) or a <= 0:\n",
        "    raise ValueError(\"Длина стороны a должна быть положительным числом\")\n",
        "  if not isinstance(b, (int, float)) or b <= 0:\n",
        "    raise ValueError(\"Длина стороны b должна быть положительным числом\")\n",
        "  if not isinstance(c, (int, float)) or c <= 0:\n",
        "    raise ValueError(\"Длина стороны c должна быть положительным числом\")\n",
        "\n",
        "  area = 2 * (a * b + b * c + c * a)\n",
        "  volume = a * b * c\n",
        "\n",
        "  return area, volume\n",
        "\n",
        "a = 2\n",
        "b = 12\n",
        "c = 6\n",
        "\n",
        "result = calc_parallelepiped(a, b, c)\n",
        "\n",
        "print(result)"
      ]
    },
    {
      "cell_type": "markdown",
      "metadata": {
        "id": "ZuoZQfnXPWcB"
      },
      "source": [
        "## Задание 3"
      ]
    },
    {
      "cell_type": "markdown",
      "metadata": {
        "id": "CCiiVIVzPWcF"
      },
      "source": [
        "**Условие:**\n",
        "Напишите функцию подсчета факториала числа. Найдите значение ```12!```.\n",
        "\n",
        "**Формат ответа:**\n",
        "Число (например, ```1235```)\n"
      ]
    },
    {
      "cell_type": "markdown",
      "metadata": {
        "id": "Flg_SH_8PWcJ"
      },
      "source": [
        "**Решение:**"
      ]
    },
    {
      "cell_type": "code",
      "execution_count": null,
      "metadata": {
        "id": "OqMIG3a9PWcM"
      },
      "outputs": [],
      "source": [
        "def factorial(n):\n",
        "\n",
        "  if not isinstance(n, int) or n < 0:\n",
        "    raise ValueError(\"n должно быть целым числом больше или равным 0\")\n",
        "\n",
        "  if n == 0:\n",
        "    return 1\n",
        "\n",
        "  factorial_n = 1\n",
        "  for i in range(1, n + 1):\n",
        "    factorial_n *= i\n",
        "\n",
        "  return factorial_n\n",
        "\n",
        "n = 12\n",
        "\n",
        "result = factorial(n)\n",
        "\n",
        "print(result)"
      ]
    }
  ],
  "metadata": {
    "colab": {
      "provenance": []
    },
    "kernelspec": {
      "display_name": "Python 3 (ipykernel)",
      "language": "python",
      "name": "python3"
    },
    "language_info": {
      "codemirror_mode": {
        "name": "ipython",
        "version": 3
      },
      "file_extension": ".py",
      "mimetype": "text/x-python",
      "name": "python",
      "nbconvert_exporter": "python",
      "pygments_lexer": "ipython3",
      "version": "3.11.7"
    }
  },
  "nbformat": 4,
  "nbformat_minor": 0
}