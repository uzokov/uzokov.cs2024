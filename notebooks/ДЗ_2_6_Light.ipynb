{
  "cells": [
    {
      "cell_type": "markdown",
      "metadata": {
        "id": "MH-3kVwvJYeP"
      },
      "source": [
        "# 2.6 Модули"
      ]
    },
    {
      "cell_type": "markdown",
      "metadata": {
        "id": "Ul9jm4IVKflm"
      },
      "source": [
        "## Задание 1"
      ]
    },
    {
      "cell_type": "markdown",
      "metadata": {
        "id": "MHcCRybmPN2l"
      },
      "source": [
        "**Условие:**\n",
        "Посчитать значение $\\cos^2(\\pi/7)$ и $\\sin^2(\\pi/7)$, используя указанные функции из библиотеки ```math```, применив для этого **каждую** из конструкций импорта:\n",
        "``` python\n",
        "# 1. Импорт модуля или модулей целиком\n",
        "import имя_модуля\n",
        "import имя_модуля1, имя_модуля2\n",
        "\n",
        "# 2. Импорт модуля с присвоением псевдонима модулю\n",
        "import имя_модуля as новое_имя\n",
        "\n",
        "# 3. Импорт конкретного объекта из модуля\n",
        "from имя_модуля import имя_объекта\n",
        "from имя_модуля import имя_объекта1, имя_объекта2\n",
        "\n",
        "# 4. Импорт конкретного объекта из модуля с присвоением псевдонима объекту\n",
        "from имя_модуля import имя_объекта as псевдоним_объекта\n",
        "\n",
        "# 5. Импорт всех объектов из модуля\n",
        "from имя_модуля import *\n",
        "```\n",
        "Найдите сумму $\\cos^2(\\pi/7)$ и $\\sin^2(\\pi/7)$.\n",
        "\n",
        "**Формат ответа:** Число с плавающей запятой, округленное до десятых (например,```0.1```)"
      ]
    },
    {
      "cell_type": "markdown",
      "metadata": {
        "id": "KGKyYMeJPN2v"
      },
      "source": [
        "**Решение:**"
      ]
    },
    {
      "cell_type": "code",
      "execution_count": null,
      "metadata": {
        "colab": {
          "base_uri": "https://localhost:8080/"
        },
        "id": "JXulcWCxPN26",
        "outputId": "6f3ec6eb-a99d-4318-a638-17a9267702d7"
      },
      "outputs": [
        {
          "output_type": "stream",
          "name": "stdout",
          "text": [
            "1. Импорт модуля целиком: 1.0\n",
            "2. Импорт модуля с псевдонимом: 1.0\n",
            "3. Импорт конкретных объектов: 1.0\n",
            "4. Импорт объектов с псевдонимами: 1.0\n",
            "5. Импорт всех объектов из модуля: 1.0\n"
          ]
        }
      ],
      "source": [
        "import math\n",
        "import math as m\n",
        "from math import cos, sin, pi\n",
        "from math import cos as cosine, sin as sine, pi as p\n",
        "from math import *\n",
        "\n",
        "# 1. Импорт модуля или модулей целиком\n",
        "cos_value_1 = math.cos(math.pi/7)\n",
        "sin_value_1 = math.sin(math.pi/7)\n",
        "result_1 = cos_value_1 ** 2 + sin_value_1 ** 2\n",
        "\n",
        "# 2. Импорт модуля с присвоением псевдонима модулю\n",
        "cos_value_2 = m.cos(m.pi/7)\n",
        "sin_value_2 = m.sin(m.pi/7)\n",
        "result_2 = cos_value_2 ** 2 + sin_value_2 ** 2\n",
        "\n",
        "# 3. Импорт конкретного объекта из модуля\n",
        "cos_value_3 = cos(pi/7)\n",
        "sin_value_3 = sin(pi/7)\n",
        "result_3 = cos_value_3 ** 2 + sin_value_3 ** 2\n",
        "\n",
        "# 4. Импорт конкретного объекта из модуля с присвоением псевдонима объекту\n",
        "cos_value_4 = cosine(p/7)\n",
        "sin_value_4 = sine(p/7)\n",
        "result_4 = cos_value_4 ** 2 + sin_value_4 ** 2\n",
        "\n",
        "# 5. Импорт всех объектов из модуля\n",
        "cos_value_5 = cos(pi/7)\n",
        "sin_value_5 = sin(pi/7)\n",
        "result_5 = cos_value_5 ** 2 + sin_value_5 ** 2\n",
        "\n",
        "# Печать результатов с указанием метода импорта\n",
        "print(\"1. Импорт модуля целиком:\", round(result_1, 1))\n",
        "print(\"2. Импорт модуля с псевдонимом:\", round(result_2, 1))\n",
        "print(\"3. Импорт конкретных объектов:\", round(result_3, 1))\n",
        "print(\"4. Импорт объектов с псевдонимами:\", round(result_4, 1))\n",
        "print(\"5. Импорт всех объектов из модуля:\", round(result_5, 1))"
      ]
    }
  ],
  "metadata": {
    "colab": {
      "provenance": []
    },
    "kernelspec": {
      "display_name": "Python 3 (ipykernel)",
      "language": "python",
      "name": "python3"
    },
    "language_info": {
      "codemirror_mode": {
        "name": "ipython",
        "version": 3
      },
      "file_extension": ".py",
      "mimetype": "text/x-python",
      "name": "python",
      "nbconvert_exporter": "python",
      "pygments_lexer": "ipython3",
      "version": "3.11.7"
    }
  },
  "nbformat": 4,
  "nbformat_minor": 0
}