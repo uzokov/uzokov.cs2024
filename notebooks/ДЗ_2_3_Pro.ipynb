{
  "cells": [
    {
      "cell_type": "markdown",
      "metadata": {
        "id": "MH-3kVwvJYeP"
      },
      "source": [
        "# 2.3 Типы коллекций. Последовательности, множества, отображения"
      ]
    },
    {
      "cell_type": "markdown",
      "metadata": {
        "id": "gMwyKhlQJ1mf"
      },
      "source": [
        "## Задание 1"
      ]
    },
    {
      "cell_type": "markdown",
      "metadata": {
        "id": "Owu684lKKrjJ"
      },
      "source": [
        "**Условие:**\n",
        "Создайте кортеж из ```10```  произвольных значений. С помощью операции среза выведите только элементы с четными индексами.\n"
      ]
    },
    {
      "cell_type": "markdown",
      "metadata": {
        "id": "OCTvo3fHLaaJ"
      },
      "source": [
        "**Решение:**"
      ]
    },
    {
      "cell_type": "code",
      "execution_count": null,
      "metadata": {
        "colab": {
          "base_uri": "https://localhost:8080/"
        },
        "id": "f9_8IGndLeRO",
        "outputId": "a84627e8-63bc-48d3-b2fc-10205b70c938"
      },
      "outputs": [
        {
          "output_type": "stream",
          "name": "stdout",
          "text": [
            "Кортеж: (14, 49, 3, 26, 57, 1, 10, 16, 93, 96)\n",
            "Элементы кортежа с четными индексами:\n",
            "Индекс 0: 14\n",
            "Индекс 2: 3\n",
            "Индекс 4: 57\n",
            "Индекс 6: 10\n",
            "Индекс 8: 93\n"
          ]
        }
      ],
      "source": [
        "import random\n",
        "\n",
        "# Создаем кортеж из 10 произвольных значений\n",
        "tuple_values = tuple(random.randint(1, 100) for _ in range(10))\n",
        "print(f\"Кортеж: {tuple_values}\")\n",
        "\n",
        "# Выводим элементы кортежа с четными индексами\n",
        "print(\"Элементы кортежа с четными индексами:\")\n",
        "for i in range(0, len(tuple_values), 2):\n",
        "    print(f\"Индекс {i}: {tuple_values[i]}\")"
      ]
    },
    {
      "cell_type": "markdown",
      "metadata": {
        "id": "g5S0h2-wKfGE"
      },
      "source": [
        "## Задание 2"
      ]
    },
    {
      "cell_type": "markdown",
      "metadata": {
        "id": "orX7BUzcPKKf"
      },
      "source": [
        "**Условие:**\n",
        "Создайте список из ```10``` элементов, которые могут быть только ```0``` или ```1```. Примените к полученному списку операцию ```set()```."
      ]
    },
    {
      "cell_type": "markdown",
      "metadata": {
        "id": "ESSLfwqEPKKn"
      },
      "source": [
        "**Решение:**"
      ]
    },
    {
      "cell_type": "code",
      "execution_count": null,
      "metadata": {
        "colab": {
          "base_uri": "https://localhost:8080/"
        },
        "id": "y8HOlaNLPKKq",
        "outputId": "c82927e1-cf55-4dc1-8843-1d892fcbb919"
      },
      "outputs": [
        {
          "output_type": "stream",
          "name": "stdout",
          "text": [
            "Исходный список: [1, 1, 0, 1, 0, 0, 1, 1, 0, 0]\n",
            "Множество из списка: {0, 1}\n"
          ]
        }
      ],
      "source": [
        "import random\n",
        "\n",
        "# Создаем список из 10 элементов, которые могут быть только 0 или 1\n",
        "list_v = [random.choice([0, 1]) for _ in range(10)]\n",
        "print(f\"Исходный список: {list_v}\")\n",
        "\n",
        "# Применяем к полученному списку операцию set()\n",
        "set_v = set(list_v)\n",
        "print(f\"Множество из списка: {set_v}\")"
      ]
    },
    {
      "cell_type": "markdown",
      "metadata": {
        "id": "tq0Fcrg1KfXQ"
      },
      "source": [
        "## Задание 3"
      ]
    },
    {
      "cell_type": "markdown",
      "metadata": {
        "id": "3xp-jyyHPMIb"
      },
      "source": [
        "**Условие:**\n",
        "Создайте словарь из ```5``` сотрудников, где ключ - это имя сотрудника, а значение - его заработная плата. Добавьте в него несколько сотрудников. В цикле проиндексируйте зарплату всем сотрудникам на ```10%```.\n"
      ]
    },
    {
      "cell_type": "markdown",
      "metadata": {
        "id": "H5ZlBsI2PMIi"
      },
      "source": [
        "**Решение:**"
      ]
    },
    {
      "cell_type": "code",
      "execution_count": null,
      "metadata": {
        "colab": {
          "base_uri": "https://localhost:8080/"
        },
        "id": "6amsYUCoPMIn",
        "outputId": "649a5845-5e96-4ed2-fe5e-fbe6b7f8b7c9"
      },
      "outputs": [
        {
          "output_type": "stream",
          "name": "stdout",
          "text": [
            "Исходный словарь сотрудников:\n",
            "Имя: Андрей, Заработная плата: 7000000\n",
            "Имя: Карина, Заработная плата: 8000000\n",
            "Имя: Дмитрий, Заработная плата: 7500000\n",
            "Имя: Татьяна, Заработная плата: 8500000\n",
            "Имя: Владислав, Заработная плата: 9000000\n",
            "Имя: Ада, Заработная плата: 9500000\n",
            "Имя: Амир, Заработная плата: 10000000\n",
            "Обновленный словарь сотрудников:\n",
            "Имя: Андрей, Заработная плата: 7700000\n",
            "Имя: Карина, Заработная плата: 8800000\n",
            "Имя: Дмитрий, Заработная плата: 8250000\n",
            "Имя: Татьяна, Заработная плата: 9350000\n",
            "Имя: Владислав, Заработная плата: 9900000\n",
            "Имя: Ада, Заработная плата: 10450000\n",
            "Имя: Амир, Заработная плата: 11000000\n"
          ]
        }
      ],
      "source": [
        "# Создаем словарь сотрудников\n",
        "employees = {\n",
        "    \"Андрей\": 7000000,\n",
        "    \"Карина\": 8000000,\n",
        "    \"Дмитрий\": 7500000,\n",
        "    \"Татьяна\": 8500000,\n",
        "    \"Владислав\": 9000000\n",
        "}\n",
        "\n",
        "# Добавляем в словарь еще несколько сотрудников\n",
        "employees[\"Ада\"] = 9500000\n",
        "employees[\"Амир\"] = 10000000\n",
        "\n",
        "print(\"Исходный словарь сотрудников:\")\n",
        "for name, salary in employees.items():\n",
        "    print(f\"Имя: {name}, Заработная плата: {salary}\")\n",
        "\n",
        "# Увеличиваем зарплату каждого сотрудника на 10%\n",
        "# Округлил чтобы избежать вывода десятичных чисел\n",
        "for name in employees:\n",
        "    employees[name] = round(employees[name] * 1.1)\n",
        "\n",
        "print(\"Обновленный словарь сотрудников:\")\n",
        "for name, salary in employees.items():\n",
        "    print(f\"Имя: {name}, Заработная плата: {salary}\")"
      ]
    }
  ],
  "metadata": {
    "colab": {
      "provenance": []
    },
    "kernelspec": {
      "display_name": "Python 3 (ipykernel)",
      "language": "python",
      "name": "python3"
    },
    "language_info": {
      "codemirror_mode": {
        "name": "ipython",
        "version": 3
      },
      "file_extension": ".py",
      "mimetype": "text/x-python",
      "name": "python",
      "nbconvert_exporter": "python",
      "pygments_lexer": "ipython3",
      "version": "3.11.7"
    }
  },
  "nbformat": 4,
  "nbformat_minor": 0
}